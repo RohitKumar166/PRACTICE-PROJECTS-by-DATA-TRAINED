{
 "cells": [
  {
   "cell_type": "markdown",
   "metadata": {},
   "source": [
    "# PRACTICE PROJECT"
   ]
  },
  {
   "cell_type": "markdown",
   "metadata": {},
   "source": [
    "# World Happiness Report "
   ]
  },
  {
   "cell_type": "code",
   "execution_count": 24,
   "metadata": {},
   "outputs": [],
   "source": [
    "import numpy as np\n",
    "import pandas as pd"
   ]
  },
  {
   "cell_type": "code",
   "execution_count": 25,
   "metadata": {},
   "outputs": [],
   "source": [
    "df = pd.read_csv(\"world-happiness-report-2021.csv\")"
   ]
  },
  {
   "cell_type": "code",
   "execution_count": 26,
   "metadata": {},
   "outputs": [
    {
     "data": {
      "text/html": [
       "<div>\n",
       "<style scoped>\n",
       "    .dataframe tbody tr th:only-of-type {\n",
       "        vertical-align: middle;\n",
       "    }\n",
       "\n",
       "    .dataframe tbody tr th {\n",
       "        vertical-align: top;\n",
       "    }\n",
       "\n",
       "    .dataframe thead th {\n",
       "        text-align: right;\n",
       "    }\n",
       "</style>\n",
       "<table border=\"1\" class=\"dataframe\">\n",
       "  <thead>\n",
       "    <tr style=\"text-align: right;\">\n",
       "      <th></th>\n",
       "      <th>Country name</th>\n",
       "      <th>Regional indicator</th>\n",
       "      <th>Ladder score</th>\n",
       "      <th>Standard error of ladder score</th>\n",
       "      <th>upperwhisker</th>\n",
       "      <th>lowerwhisker</th>\n",
       "      <th>Logged GDP per capita</th>\n",
       "      <th>Social support</th>\n",
       "      <th>Healthy life expectancy</th>\n",
       "      <th>Freedom to make life choices</th>\n",
       "      <th>Generosity</th>\n",
       "      <th>Perceptions of corruption</th>\n",
       "      <th>Ladder score in Dystopia</th>\n",
       "      <th>Explained by: Log GDP per capita</th>\n",
       "      <th>Explained by: Social support</th>\n",
       "      <th>Explained by: Healthy life expectancy</th>\n",
       "      <th>Explained by: Freedom to make life choices</th>\n",
       "      <th>Explained by: Generosity</th>\n",
       "      <th>Explained by: Perceptions of corruption</th>\n",
       "      <th>Dystopia + residual</th>\n",
       "    </tr>\n",
       "  </thead>\n",
       "  <tbody>\n",
       "    <tr>\n",
       "      <th>0</th>\n",
       "      <td>Finland</td>\n",
       "      <td>Western Europe</td>\n",
       "      <td>7.842</td>\n",
       "      <td>0.032</td>\n",
       "      <td>7.904</td>\n",
       "      <td>7.780</td>\n",
       "      <td>10.775</td>\n",
       "      <td>0.954</td>\n",
       "      <td>72.000</td>\n",
       "      <td>0.949</td>\n",
       "      <td>-0.098</td>\n",
       "      <td>0.186</td>\n",
       "      <td>2.43</td>\n",
       "      <td>1.446</td>\n",
       "      <td>1.106</td>\n",
       "      <td>0.741</td>\n",
       "      <td>0.691</td>\n",
       "      <td>0.124</td>\n",
       "      <td>0.481</td>\n",
       "      <td>3.253</td>\n",
       "    </tr>\n",
       "    <tr>\n",
       "      <th>1</th>\n",
       "      <td>Denmark</td>\n",
       "      <td>Western Europe</td>\n",
       "      <td>7.620</td>\n",
       "      <td>0.035</td>\n",
       "      <td>7.687</td>\n",
       "      <td>7.552</td>\n",
       "      <td>10.933</td>\n",
       "      <td>0.954</td>\n",
       "      <td>72.700</td>\n",
       "      <td>0.946</td>\n",
       "      <td>0.030</td>\n",
       "      <td>0.179</td>\n",
       "      <td>2.43</td>\n",
       "      <td>1.502</td>\n",
       "      <td>1.108</td>\n",
       "      <td>0.763</td>\n",
       "      <td>0.686</td>\n",
       "      <td>0.208</td>\n",
       "      <td>0.485</td>\n",
       "      <td>2.868</td>\n",
       "    </tr>\n",
       "    <tr>\n",
       "      <th>2</th>\n",
       "      <td>Switzerland</td>\n",
       "      <td>Western Europe</td>\n",
       "      <td>7.571</td>\n",
       "      <td>0.036</td>\n",
       "      <td>7.643</td>\n",
       "      <td>7.500</td>\n",
       "      <td>11.117</td>\n",
       "      <td>0.942</td>\n",
       "      <td>74.400</td>\n",
       "      <td>0.919</td>\n",
       "      <td>0.025</td>\n",
       "      <td>0.292</td>\n",
       "      <td>2.43</td>\n",
       "      <td>1.566</td>\n",
       "      <td>1.079</td>\n",
       "      <td>0.816</td>\n",
       "      <td>0.653</td>\n",
       "      <td>0.204</td>\n",
       "      <td>0.413</td>\n",
       "      <td>2.839</td>\n",
       "    </tr>\n",
       "    <tr>\n",
       "      <th>3</th>\n",
       "      <td>Iceland</td>\n",
       "      <td>Western Europe</td>\n",
       "      <td>7.554</td>\n",
       "      <td>0.059</td>\n",
       "      <td>7.670</td>\n",
       "      <td>7.438</td>\n",
       "      <td>10.878</td>\n",
       "      <td>0.983</td>\n",
       "      <td>73.000</td>\n",
       "      <td>0.955</td>\n",
       "      <td>0.160</td>\n",
       "      <td>0.673</td>\n",
       "      <td>2.43</td>\n",
       "      <td>1.482</td>\n",
       "      <td>1.172</td>\n",
       "      <td>0.772</td>\n",
       "      <td>0.698</td>\n",
       "      <td>0.293</td>\n",
       "      <td>0.170</td>\n",
       "      <td>2.967</td>\n",
       "    </tr>\n",
       "    <tr>\n",
       "      <th>4</th>\n",
       "      <td>Netherlands</td>\n",
       "      <td>Western Europe</td>\n",
       "      <td>7.464</td>\n",
       "      <td>0.027</td>\n",
       "      <td>7.518</td>\n",
       "      <td>7.410</td>\n",
       "      <td>10.932</td>\n",
       "      <td>0.942</td>\n",
       "      <td>72.400</td>\n",
       "      <td>0.913</td>\n",
       "      <td>0.175</td>\n",
       "      <td>0.338</td>\n",
       "      <td>2.43</td>\n",
       "      <td>1.501</td>\n",
       "      <td>1.079</td>\n",
       "      <td>0.753</td>\n",
       "      <td>0.647</td>\n",
       "      <td>0.302</td>\n",
       "      <td>0.384</td>\n",
       "      <td>2.798</td>\n",
       "    </tr>\n",
       "    <tr>\n",
       "      <th>...</th>\n",
       "      <td>...</td>\n",
       "      <td>...</td>\n",
       "      <td>...</td>\n",
       "      <td>...</td>\n",
       "      <td>...</td>\n",
       "      <td>...</td>\n",
       "      <td>...</td>\n",
       "      <td>...</td>\n",
       "      <td>...</td>\n",
       "      <td>...</td>\n",
       "      <td>...</td>\n",
       "      <td>...</td>\n",
       "      <td>...</td>\n",
       "      <td>...</td>\n",
       "      <td>...</td>\n",
       "      <td>...</td>\n",
       "      <td>...</td>\n",
       "      <td>...</td>\n",
       "      <td>...</td>\n",
       "      <td>...</td>\n",
       "    </tr>\n",
       "    <tr>\n",
       "      <th>144</th>\n",
       "      <td>Lesotho</td>\n",
       "      <td>Sub-Saharan Africa</td>\n",
       "      <td>3.512</td>\n",
       "      <td>0.120</td>\n",
       "      <td>3.748</td>\n",
       "      <td>3.276</td>\n",
       "      <td>7.926</td>\n",
       "      <td>0.787</td>\n",
       "      <td>48.700</td>\n",
       "      <td>0.715</td>\n",
       "      <td>-0.131</td>\n",
       "      <td>0.915</td>\n",
       "      <td>2.43</td>\n",
       "      <td>0.451</td>\n",
       "      <td>0.731</td>\n",
       "      <td>0.007</td>\n",
       "      <td>0.405</td>\n",
       "      <td>0.103</td>\n",
       "      <td>0.015</td>\n",
       "      <td>1.800</td>\n",
       "    </tr>\n",
       "    <tr>\n",
       "      <th>145</th>\n",
       "      <td>Botswana</td>\n",
       "      <td>Sub-Saharan Africa</td>\n",
       "      <td>3.467</td>\n",
       "      <td>0.074</td>\n",
       "      <td>3.611</td>\n",
       "      <td>3.322</td>\n",
       "      <td>9.782</td>\n",
       "      <td>0.784</td>\n",
       "      <td>59.269</td>\n",
       "      <td>0.824</td>\n",
       "      <td>-0.246</td>\n",
       "      <td>0.801</td>\n",
       "      <td>2.43</td>\n",
       "      <td>1.099</td>\n",
       "      <td>0.724</td>\n",
       "      <td>0.340</td>\n",
       "      <td>0.539</td>\n",
       "      <td>0.027</td>\n",
       "      <td>0.088</td>\n",
       "      <td>0.648</td>\n",
       "    </tr>\n",
       "    <tr>\n",
       "      <th>146</th>\n",
       "      <td>Rwanda</td>\n",
       "      <td>Sub-Saharan Africa</td>\n",
       "      <td>3.415</td>\n",
       "      <td>0.068</td>\n",
       "      <td>3.548</td>\n",
       "      <td>3.282</td>\n",
       "      <td>7.676</td>\n",
       "      <td>0.552</td>\n",
       "      <td>61.400</td>\n",
       "      <td>0.897</td>\n",
       "      <td>0.061</td>\n",
       "      <td>0.167</td>\n",
       "      <td>2.43</td>\n",
       "      <td>0.364</td>\n",
       "      <td>0.202</td>\n",
       "      <td>0.407</td>\n",
       "      <td>0.627</td>\n",
       "      <td>0.227</td>\n",
       "      <td>0.493</td>\n",
       "      <td>1.095</td>\n",
       "    </tr>\n",
       "    <tr>\n",
       "      <th>147</th>\n",
       "      <td>Zimbabwe</td>\n",
       "      <td>Sub-Saharan Africa</td>\n",
       "      <td>3.145</td>\n",
       "      <td>0.058</td>\n",
       "      <td>3.259</td>\n",
       "      <td>3.030</td>\n",
       "      <td>7.943</td>\n",
       "      <td>0.750</td>\n",
       "      <td>56.201</td>\n",
       "      <td>0.677</td>\n",
       "      <td>-0.047</td>\n",
       "      <td>0.821</td>\n",
       "      <td>2.43</td>\n",
       "      <td>0.457</td>\n",
       "      <td>0.649</td>\n",
       "      <td>0.243</td>\n",
       "      <td>0.359</td>\n",
       "      <td>0.157</td>\n",
       "      <td>0.075</td>\n",
       "      <td>1.205</td>\n",
       "    </tr>\n",
       "    <tr>\n",
       "      <th>148</th>\n",
       "      <td>Afghanistan</td>\n",
       "      <td>South Asia</td>\n",
       "      <td>2.523</td>\n",
       "      <td>0.038</td>\n",
       "      <td>2.596</td>\n",
       "      <td>2.449</td>\n",
       "      <td>7.695</td>\n",
       "      <td>0.463</td>\n",
       "      <td>52.493</td>\n",
       "      <td>0.382</td>\n",
       "      <td>-0.102</td>\n",
       "      <td>0.924</td>\n",
       "      <td>2.43</td>\n",
       "      <td>0.370</td>\n",
       "      <td>0.000</td>\n",
       "      <td>0.126</td>\n",
       "      <td>0.000</td>\n",
       "      <td>0.122</td>\n",
       "      <td>0.010</td>\n",
       "      <td>1.895</td>\n",
       "    </tr>\n",
       "  </tbody>\n",
       "</table>\n",
       "<p>149 rows × 20 columns</p>\n",
       "</div>"
      ],
      "text/plain": [
       "    Country name  Regional indicator  Ladder score  \\\n",
       "0        Finland      Western Europe         7.842   \n",
       "1        Denmark      Western Europe         7.620   \n",
       "2    Switzerland      Western Europe         7.571   \n",
       "3        Iceland      Western Europe         7.554   \n",
       "4    Netherlands      Western Europe         7.464   \n",
       "..           ...                 ...           ...   \n",
       "144      Lesotho  Sub-Saharan Africa         3.512   \n",
       "145     Botswana  Sub-Saharan Africa         3.467   \n",
       "146       Rwanda  Sub-Saharan Africa         3.415   \n",
       "147     Zimbabwe  Sub-Saharan Africa         3.145   \n",
       "148  Afghanistan          South Asia         2.523   \n",
       "\n",
       "     Standard error of ladder score  upperwhisker  lowerwhisker  \\\n",
       "0                             0.032         7.904         7.780   \n",
       "1                             0.035         7.687         7.552   \n",
       "2                             0.036         7.643         7.500   \n",
       "3                             0.059         7.670         7.438   \n",
       "4                             0.027         7.518         7.410   \n",
       "..                              ...           ...           ...   \n",
       "144                           0.120         3.748         3.276   \n",
       "145                           0.074         3.611         3.322   \n",
       "146                           0.068         3.548         3.282   \n",
       "147                           0.058         3.259         3.030   \n",
       "148                           0.038         2.596         2.449   \n",
       "\n",
       "     Logged GDP per capita  Social support  Healthy life expectancy  \\\n",
       "0                   10.775           0.954                   72.000   \n",
       "1                   10.933           0.954                   72.700   \n",
       "2                   11.117           0.942                   74.400   \n",
       "3                   10.878           0.983                   73.000   \n",
       "4                   10.932           0.942                   72.400   \n",
       "..                     ...             ...                      ...   \n",
       "144                  7.926           0.787                   48.700   \n",
       "145                  9.782           0.784                   59.269   \n",
       "146                  7.676           0.552                   61.400   \n",
       "147                  7.943           0.750                   56.201   \n",
       "148                  7.695           0.463                   52.493   \n",
       "\n",
       "     Freedom to make life choices  Generosity  Perceptions of corruption  \\\n",
       "0                           0.949      -0.098                      0.186   \n",
       "1                           0.946       0.030                      0.179   \n",
       "2                           0.919       0.025                      0.292   \n",
       "3                           0.955       0.160                      0.673   \n",
       "4                           0.913       0.175                      0.338   \n",
       "..                            ...         ...                        ...   \n",
       "144                         0.715      -0.131                      0.915   \n",
       "145                         0.824      -0.246                      0.801   \n",
       "146                         0.897       0.061                      0.167   \n",
       "147                         0.677      -0.047                      0.821   \n",
       "148                         0.382      -0.102                      0.924   \n",
       "\n",
       "     Ladder score in Dystopia  Explained by: Log GDP per capita  \\\n",
       "0                        2.43                             1.446   \n",
       "1                        2.43                             1.502   \n",
       "2                        2.43                             1.566   \n",
       "3                        2.43                             1.482   \n",
       "4                        2.43                             1.501   \n",
       "..                        ...                               ...   \n",
       "144                      2.43                             0.451   \n",
       "145                      2.43                             1.099   \n",
       "146                      2.43                             0.364   \n",
       "147                      2.43                             0.457   \n",
       "148                      2.43                             0.370   \n",
       "\n",
       "     Explained by: Social support  Explained by: Healthy life expectancy  \\\n",
       "0                           1.106                                  0.741   \n",
       "1                           1.108                                  0.763   \n",
       "2                           1.079                                  0.816   \n",
       "3                           1.172                                  0.772   \n",
       "4                           1.079                                  0.753   \n",
       "..                            ...                                    ...   \n",
       "144                         0.731                                  0.007   \n",
       "145                         0.724                                  0.340   \n",
       "146                         0.202                                  0.407   \n",
       "147                         0.649                                  0.243   \n",
       "148                         0.000                                  0.126   \n",
       "\n",
       "     Explained by: Freedom to make life choices  Explained by: Generosity  \\\n",
       "0                                         0.691                     0.124   \n",
       "1                                         0.686                     0.208   \n",
       "2                                         0.653                     0.204   \n",
       "3                                         0.698                     0.293   \n",
       "4                                         0.647                     0.302   \n",
       "..                                          ...                       ...   \n",
       "144                                       0.405                     0.103   \n",
       "145                                       0.539                     0.027   \n",
       "146                                       0.627                     0.227   \n",
       "147                                       0.359                     0.157   \n",
       "148                                       0.000                     0.122   \n",
       "\n",
       "     Explained by: Perceptions of corruption  Dystopia + residual  \n",
       "0                                      0.481                3.253  \n",
       "1                                      0.485                2.868  \n",
       "2                                      0.413                2.839  \n",
       "3                                      0.170                2.967  \n",
       "4                                      0.384                2.798  \n",
       "..                                       ...                  ...  \n",
       "144                                    0.015                1.800  \n",
       "145                                    0.088                0.648  \n",
       "146                                    0.493                1.095  \n",
       "147                                    0.075                1.205  \n",
       "148                                    0.010                1.895  \n",
       "\n",
       "[149 rows x 20 columns]"
      ]
     },
     "execution_count": 26,
     "metadata": {},
     "output_type": "execute_result"
    }
   ],
   "source": [
    "df"
   ]
  },
  {
   "cell_type": "code",
   "execution_count": 27,
   "metadata": {},
   "outputs": [
    {
     "data": {
      "text/plain": [
       "Index(['Country name', 'Regional indicator', 'Ladder score',\n",
       "       'Standard error of ladder score', 'upperwhisker', 'lowerwhisker',\n",
       "       'Logged GDP per capita', 'Social support', 'Healthy life expectancy',\n",
       "       'Freedom to make life choices', 'Generosity',\n",
       "       'Perceptions of corruption', 'Ladder score in Dystopia',\n",
       "       'Explained by: Log GDP per capita', 'Explained by: Social support',\n",
       "       'Explained by: Healthy life expectancy',\n",
       "       'Explained by: Freedom to make life choices',\n",
       "       'Explained by: Generosity', 'Explained by: Perceptions of corruption',\n",
       "       'Dystopia + residual'],\n",
       "      dtype='object')"
      ]
     },
     "execution_count": 27,
     "metadata": {},
     "output_type": "execute_result"
    }
   ],
   "source": [
    "df.columns"
   ]
  },
  {
   "cell_type": "code",
   "execution_count": 28,
   "metadata": {},
   "outputs": [
    {
     "data": {
      "text/plain": [
       "Country name                                  0\n",
       "Regional indicator                            0\n",
       "Ladder score                                  0\n",
       "Standard error of ladder score                0\n",
       "upperwhisker                                  0\n",
       "lowerwhisker                                  0\n",
       "Logged GDP per capita                         0\n",
       "Social support                                0\n",
       "Healthy life expectancy                       0\n",
       "Freedom to make life choices                  0\n",
       "Generosity                                    0\n",
       "Perceptions of corruption                     0\n",
       "Ladder score in Dystopia                      0\n",
       "Explained by: Log GDP per capita              0\n",
       "Explained by: Social support                  0\n",
       "Explained by: Healthy life expectancy         0\n",
       "Explained by: Freedom to make life choices    0\n",
       "Explained by: Generosity                      0\n",
       "Explained by: Perceptions of corruption       0\n",
       "Dystopia + residual                           0\n",
       "dtype: int64"
      ]
     },
     "execution_count": 28,
     "metadata": {},
     "output_type": "execute_result"
    }
   ],
   "source": [
    "df.isnull().sum()"
   ]
  },
  {
   "cell_type": "code",
   "execution_count": 29,
   "metadata": {},
   "outputs": [],
   "source": [
    "import seaborn as sns"
   ]
  },
  {
   "cell_type": "code",
   "execution_count": 30,
   "metadata": {},
   "outputs": [
    {
     "data": {
      "text/plain": [
       "<AxesSubplot:>"
      ]
     },
     "execution_count": 30,
     "metadata": {},
     "output_type": "execute_result"
    },
    {
     "data": {
      "image/png": "[encoded data removed]",
      "text/plain": [
       "<Figure size 432x288 with 2 Axes>"
      ]
     },
     "metadata": {
      "needs_background": "light"
     },
     "output_type": "display_data"
    }
   ],
   "source": [
    "sns.heatmap(df.isnull())"
   ]
  },
  {
   "cell_type": "code",
   "execution_count": 31,
   "metadata": {},
   "outputs": [
    {
     "data": {
      "text/plain": [
       "Country name                                  149\n",
       "Regional indicator                             10\n",
       "Ladder score                                  147\n",
       "Standard error of ladder score                 65\n",
       "upperwhisker                                  146\n",
       "lowerwhisker                                  143\n",
       "Logged GDP per capita                         148\n",
       "Social support                                119\n",
       "Healthy life expectancy                       135\n",
       "Freedom to make life choices                  126\n",
       "Generosity                                    130\n",
       "Perceptions of corruption                     130\n",
       "Ladder score in Dystopia                        1\n",
       "Explained by: Log GDP per capita              138\n",
       "Explained by: Social support                  135\n",
       "Explained by: Healthy life expectancy         119\n",
       "Explained by: Freedom to make life choices    130\n",
       "Explained by: Generosity                      119\n",
       "Explained by: Perceptions of corruption       117\n",
       "Dystopia + residual                           142\n",
       "dtype: int64"
      ]
     },
     "execution_count": 31,
     "metadata": {},
     "output_type": "execute_result"
    }
   ],
   "source": [
    "df.nunique()"
   ]
  },
  {
   "cell_type": "code",
   "execution_count": 32,
   "metadata": {},
   "outputs": [],
   "source": [
    "df.drop([\"Country name\",\"Regional indicator\"],axis=1,inplace=True)"
   ]
  },
  {
   "cell_type": "markdown",
   "metadata": {},
   "source": [
    "# EDA"
   ]
  },
  {
   "cell_type": "code",
   "execution_count": 33,
   "metadata": {},
   "outputs": [],
   "source": [
    "import matplotlib.pyplot as plt"
   ]
  },
  {
   "cell_type": "code",
   "execution_count": 34,
   "metadata": {},
   "outputs": [
    {
     "name": "stderr",
     "output_type": "stream",
     "text": [
      "C:\\Users\\abhis\\anaconda3\\lib\\site-packages\\seaborn\\distributions.py:2551: FutureWarning: `distplot` is a deprecated function and will be removed in a future version. Please adapt your code to use either `displot` (a figure-level function with similar flexibility) or `histplot` (an axes-level function for histograms).\n",
      "  warnings.warn(msg, FutureWarning)\n"
     ]
    },
    {
     "data": {
      "image/png": "[encoded data removed]",
      "text/plain": [
       "<Figure size 432x288 with 1 Axes>"
      ]
     },
     "metadata": {
      "needs_background": "light"
     },
     "output_type": "display_data"
    }
   ],
   "source": [
    "sns.distplot(df['Ladder score'])\n",
    "plt.xlabel('Ladder score',fontsize=20)\n",
    "plt.show()"
   ]
  },
  {
   "cell_type": "markdown",
   "metadata": {},
   "source": [
    "# CORRELATION"
   ]
  },
  {
   "cell_type": "code",
   "execution_count": 35,
   "metadata": {},
   "outputs": [
    {
     "data": {
      "text/html": [
       "<div>\n",
       "<style scoped>\n",
       "    .dataframe tbody tr th:only-of-type {\n",
       "        vertical-align: middle;\n",
       "    }\n",
       "\n",
       "    .dataframe tbody tr th {\n",
       "        vertical-align: top;\n",
       "    }\n",
       "\n",
       "    .dataframe thead th {\n",
       "        text-align: right;\n",
       "    }\n",
       "</style>\n",
       "<table border=\"1\" class=\"dataframe\">\n",
       "  <thead>\n",
       "    <tr style=\"text-align: right;\">\n",
       "      <th></th>\n",
       "      <th>Ladder score</th>\n",
       "      <th>Standard error of ladder score</th>\n",
       "      <th>upperwhisker</th>\n",
       "      <th>lowerwhisker</th>\n",
       "      <th>Logged GDP per capita</th>\n",
       "      <th>Social support</th>\n",
       "      <th>Healthy life expectancy</th>\n",
       "      <th>Freedom to make life choices</th>\n",
       "      <th>Generosity</th>\n",
       "      <th>Perceptions of corruption</th>\n",
       "      <th>Ladder score in Dystopia</th>\n",
       "      <th>Explained by: Log GDP per capita</th>\n",
       "      <th>Explained by: Social support</th>\n",
       "      <th>Explained by: Healthy life expectancy</th>\n",
       "      <th>Explained by: Freedom to make life choices</th>\n",
       "      <th>Explained by: Generosity</th>\n",
       "      <th>Explained by: Perceptions of corruption</th>\n",
       "      <th>Dystopia + residual</th>\n",
       "    </tr>\n",
       "  </thead>\n",
       "  <tbody>\n",
       "    <tr>\n",
       "      <th>Ladder score</th>\n",
       "      <td>1.000000e+00</td>\n",
       "      <td>-4.707869e-01</td>\n",
       "      <td>9.993471e-01</td>\n",
       "      <td>9.993963e-01</td>\n",
       "      <td>7.897597e-01</td>\n",
       "      <td>7.568876e-01</td>\n",
       "      <td>7.680995e-01</td>\n",
       "      <td>6.077531e-01</td>\n",
       "      <td>-1.779928e-02</td>\n",
       "      <td>-4.211400e-01</td>\n",
       "      <td>-1.975255e-15</td>\n",
       "      <td>7.897447e-01</td>\n",
       "      <td>7.568687e-01</td>\n",
       "      <td>7.681379e-01</td>\n",
       "      <td>6.077929e-01</td>\n",
       "      <td>-1.763104e-02</td>\n",
       "      <td>4.212054e-01</td>\n",
       "      <td>4.920099e-01</td>\n",
       "    </tr>\n",
       "    <tr>\n",
       "      <th>Standard error of ladder score</th>\n",
       "      <td>-4.707869e-01</td>\n",
       "      <td>1.000000e+00</td>\n",
       "      <td>-4.386116e-01</td>\n",
       "      <td>-5.011499e-01</td>\n",
       "      <td>-6.457985e-01</td>\n",
       "      <td>-5.308151e-01</td>\n",
       "      <td>-5.838052e-01</td>\n",
       "      <td>-2.751818e-01</td>\n",
       "      <td>1.383487e-01</td>\n",
       "      <td>2.769974e-01</td>\n",
       "      <td>-4.601633e-17</td>\n",
       "      <td>-6.457764e-01</td>\n",
       "      <td>-5.310096e-01</td>\n",
       "      <td>-5.838058e-01</td>\n",
       "      <td>-2.751708e-01</td>\n",
       "      <td>1.385804e-01</td>\n",
       "      <td>-2.770410e-01</td>\n",
       "      <td>1.368273e-01</td>\n",
       "    </tr>\n",
       "    <tr>\n",
       "      <th>upperwhisker</th>\n",
       "      <td>9.993471e-01</td>\n",
       "      <td>-4.386116e-01</td>\n",
       "      <td>1.000000e+00</td>\n",
       "      <td>9.974888e-01</td>\n",
       "      <td>7.779950e-01</td>\n",
       "      <td>7.492146e-01</td>\n",
       "      <td>7.584551e-01</td>\n",
       "      <td>6.077973e-01</td>\n",
       "      <td>-1.261589e-02</td>\n",
       "      <td>-4.175597e-01</td>\n",
       "      <td>-8.093238e-16</td>\n",
       "      <td>7.779807e-01</td>\n",
       "      <td>7.491875e-01</td>\n",
       "      <td>7.584941e-01</td>\n",
       "      <td>6.078385e-01</td>\n",
       "      <td>-1.243516e-02</td>\n",
       "      <td>4.176242e-01</td>\n",
       "      <td>5.068795e-01</td>\n",
       "    </tr>\n",
       "    <tr>\n",
       "      <th>lowerwhisker</th>\n",
       "      <td>9.993963e-01</td>\n",
       "      <td>-5.011499e-01</td>\n",
       "      <td>9.974888e-01</td>\n",
       "      <td>1.000000e+00</td>\n",
       "      <td>8.000636e-01</td>\n",
       "      <td>7.632987e-01</td>\n",
       "      <td>7.763641e-01</td>\n",
       "      <td>6.069443e-01</td>\n",
       "      <td>-2.279403e-02</td>\n",
       "      <td>-4.239761e-01</td>\n",
       "      <td>-1.092547e-17</td>\n",
       "      <td>8.000480e-01</td>\n",
       "      <td>7.632876e-01</td>\n",
       "      <td>7.764019e-01</td>\n",
       "      <td>6.069829e-01</td>\n",
       "      <td>-2.263809e-02</td>\n",
       "      <td>4.240423e-01</td>\n",
       "      <td>4.772043e-01</td>\n",
       "    </tr>\n",
       "    <tr>\n",
       "      <th>Logged GDP per capita</th>\n",
       "      <td>7.897597e-01</td>\n",
       "      <td>-6.457985e-01</td>\n",
       "      <td>7.779950e-01</td>\n",
       "      <td>8.000636e-01</td>\n",
       "      <td>1.000000e+00</td>\n",
       "      <td>7.852987e-01</td>\n",
       "      <td>8.594606e-01</td>\n",
       "      <td>4.323235e-01</td>\n",
       "      <td>-1.992864e-01</td>\n",
       "      <td>-3.423374e-01</td>\n",
       "      <td>-3.097372e-16</td>\n",
       "      <td>9.999997e-01</td>\n",
       "      <td>7.851744e-01</td>\n",
       "      <td>8.594884e-01</td>\n",
       "      <td>4.323832e-01</td>\n",
       "      <td>-1.995321e-01</td>\n",
       "      <td>3.423323e-01</td>\n",
       "      <td>-4.111918e-02</td>\n",
       "    </tr>\n",
       "    <tr>\n",
       "      <th>Social support</th>\n",
       "      <td>7.568876e-01</td>\n",
       "      <td>-5.308151e-01</td>\n",
       "      <td>7.492146e-01</td>\n",
       "      <td>7.632987e-01</td>\n",
       "      <td>7.852987e-01</td>\n",
       "      <td>1.000000e+00</td>\n",
       "      <td>7.232561e-01</td>\n",
       "      <td>4.829298e-01</td>\n",
       "      <td>-1.149459e-01</td>\n",
       "      <td>-2.032070e-01</td>\n",
       "      <td>-1.119273e-15</td>\n",
       "      <td>7.852872e-01</td>\n",
       "      <td>9.999959e-01</td>\n",
       "      <td>7.232837e-01</td>\n",
       "      <td>4.828956e-01</td>\n",
       "      <td>-1.149134e-01</td>\n",
       "      <td>2.033657e-01</td>\n",
       "      <td>6.680510e-03</td>\n",
       "    </tr>\n",
       "    <tr>\n",
       "      <th>Healthy life expectancy</th>\n",
       "      <td>7.680995e-01</td>\n",
       "      <td>-5.838052e-01</td>\n",
       "      <td>7.584551e-01</td>\n",
       "      <td>7.763641e-01</td>\n",
       "      <td>8.594606e-01</td>\n",
       "      <td>7.232561e-01</td>\n",
       "      <td>1.000000e+00</td>\n",
       "      <td>4.614939e-01</td>\n",
       "      <td>-1.617503e-01</td>\n",
       "      <td>-3.643735e-01</td>\n",
       "      <td>-1.261888e-15</td>\n",
       "      <td>8.594463e-01</td>\n",
       "      <td>7.231547e-01</td>\n",
       "      <td>9.999992e-01</td>\n",
       "      <td>4.614851e-01</td>\n",
       "      <td>-1.617669e-01</td>\n",
       "      <td>3.644519e-01</td>\n",
       "      <td>-2.343290e-02</td>\n",
       "    </tr>\n",
       "    <tr>\n",
       "      <th>Freedom to make life choices</th>\n",
       "      <td>6.077531e-01</td>\n",
       "      <td>-2.751818e-01</td>\n",
       "      <td>6.077973e-01</td>\n",
       "      <td>6.069443e-01</td>\n",
       "      <td>4.323235e-01</td>\n",
       "      <td>4.829298e-01</td>\n",
       "      <td>4.614939e-01</td>\n",
       "      <td>1.000000e+00</td>\n",
       "      <td>1.694374e-01</td>\n",
       "      <td>-4.013630e-01</td>\n",
       "      <td>-2.436425e-15</td>\n",
       "      <td>4.323504e-01</td>\n",
       "      <td>4.830686e-01</td>\n",
       "      <td>4.614541e-01</td>\n",
       "      <td>9.999941e-01</td>\n",
       "      <td>1.695875e-01</td>\n",
       "      <td>4.013717e-01</td>\n",
       "      <td>1.002423e-01</td>\n",
       "    </tr>\n",
       "    <tr>\n",
       "      <th>Generosity</th>\n",
       "      <td>-1.779928e-02</td>\n",
       "      <td>1.383487e-01</td>\n",
       "      <td>-1.261589e-02</td>\n",
       "      <td>-2.279403e-02</td>\n",
       "      <td>-1.992864e-01</td>\n",
       "      <td>-1.149459e-01</td>\n",
       "      <td>-1.617503e-01</td>\n",
       "      <td>1.694374e-01</td>\n",
       "      <td>1.000000e+00</td>\n",
       "      <td>-1.639617e-01</td>\n",
       "      <td>-3.804559e-17</td>\n",
       "      <td>-1.992288e-01</td>\n",
       "      <td>-1.149085e-01</td>\n",
       "      <td>-1.618629e-01</td>\n",
       "      <td>1.692611e-01</td>\n",
       "      <td>9.999938e-01</td>\n",
       "      <td>1.639243e-01</td>\n",
       "      <td>-2.721188e-02</td>\n",
       "    </tr>\n",
       "    <tr>\n",
       "      <th>Perceptions of corruption</th>\n",
       "      <td>-4.211400e-01</td>\n",
       "      <td>2.769974e-01</td>\n",
       "      <td>-4.175597e-01</td>\n",
       "      <td>-4.239761e-01</td>\n",
       "      <td>-3.423374e-01</td>\n",
       "      <td>-2.032070e-01</td>\n",
       "      <td>-3.643735e-01</td>\n",
       "      <td>-4.013630e-01</td>\n",
       "      <td>-1.639617e-01</td>\n",
       "      <td>1.000000e+00</td>\n",
       "      <td>-6.229328e-16</td>\n",
       "      <td>-3.423100e-01</td>\n",
       "      <td>-2.034222e-01</td>\n",
       "      <td>-3.643031e-01</td>\n",
       "      <td>-4.010689e-01</td>\n",
       "      <td>-1.641709e-01</td>\n",
       "      <td>-9.999964e-01</td>\n",
       "      <td>4.478410e-03</td>\n",
       "    </tr>\n",
       "    <tr>\n",
       "      <th>Ladder score in Dystopia</th>\n",
       "      <td>-1.975255e-15</td>\n",
       "      <td>-4.601633e-17</td>\n",
       "      <td>-8.093238e-16</td>\n",
       "      <td>-1.092547e-17</td>\n",
       "      <td>-3.097372e-16</td>\n",
       "      <td>-1.119273e-15</td>\n",
       "      <td>-1.261888e-15</td>\n",
       "      <td>-2.436425e-15</td>\n",
       "      <td>-3.804559e-17</td>\n",
       "      <td>-6.229328e-16</td>\n",
       "      <td>1.000000e+00</td>\n",
       "      <td>-4.839622e-16</td>\n",
       "      <td>4.235784e-16</td>\n",
       "      <td>5.053941e-16</td>\n",
       "      <td>-5.494281e-16</td>\n",
       "      <td>-3.911720e-16</td>\n",
       "      <td>-1.024197e-16</td>\n",
       "      <td>-8.881058e-16</td>\n",
       "    </tr>\n",
       "    <tr>\n",
       "      <th>Explained by: Log GDP per capita</th>\n",
       "      <td>7.897447e-01</td>\n",
       "      <td>-6.457764e-01</td>\n",
       "      <td>7.779807e-01</td>\n",
       "      <td>8.000480e-01</td>\n",
       "      <td>9.999997e-01</td>\n",
       "      <td>7.852872e-01</td>\n",
       "      <td>8.594463e-01</td>\n",
       "      <td>4.323504e-01</td>\n",
       "      <td>-1.992288e-01</td>\n",
       "      <td>-3.423100e-01</td>\n",
       "      <td>-4.839622e-16</td>\n",
       "      <td>1.000000e+00</td>\n",
       "      <td>7.851631e-01</td>\n",
       "      <td>8.594741e-01</td>\n",
       "      <td>4.324098e-01</td>\n",
       "      <td>-1.994742e-01</td>\n",
       "      <td>3.423048e-01</td>\n",
       "      <td>-4.114944e-02</td>\n",
       "    </tr>\n",
       "    <tr>\n",
       "      <th>Explained by: Social support</th>\n",
       "      <td>7.568687e-01</td>\n",
       "      <td>-5.310096e-01</td>\n",
       "      <td>7.491875e-01</td>\n",
       "      <td>7.632876e-01</td>\n",
       "      <td>7.851744e-01</td>\n",
       "      <td>9.999959e-01</td>\n",
       "      <td>7.231547e-01</td>\n",
       "      <td>4.830686e-01</td>\n",
       "      <td>-1.149085e-01</td>\n",
       "      <td>-2.034222e-01</td>\n",
       "      <td>4.235784e-16</td>\n",
       "      <td>7.851631e-01</td>\n",
       "      <td>1.000000e+00</td>\n",
       "      <td>7.231827e-01</td>\n",
       "      <td>4.830346e-01</td>\n",
       "      <td>-1.148768e-01</td>\n",
       "      <td>2.035803e-01</td>\n",
       "      <td>6.687173e-03</td>\n",
       "    </tr>\n",
       "    <tr>\n",
       "      <th>Explained by: Healthy life expectancy</th>\n",
       "      <td>7.681379e-01</td>\n",
       "      <td>-5.838058e-01</td>\n",
       "      <td>7.584941e-01</td>\n",
       "      <td>7.764019e-01</td>\n",
       "      <td>8.594884e-01</td>\n",
       "      <td>7.232837e-01</td>\n",
       "      <td>9.999992e-01</td>\n",
       "      <td>4.614541e-01</td>\n",
       "      <td>-1.618629e-01</td>\n",
       "      <td>-3.643031e-01</td>\n",
       "      <td>5.053941e-16</td>\n",
       "      <td>8.594741e-01</td>\n",
       "      <td>7.231827e-01</td>\n",
       "      <td>1.000000e+00</td>\n",
       "      <td>4.614448e-01</td>\n",
       "      <td>-1.618795e-01</td>\n",
       "      <td>3.643814e-01</td>\n",
       "      <td>-2.334437e-02</td>\n",
       "    </tr>\n",
       "    <tr>\n",
       "      <th>Explained by: Freedom to make life choices</th>\n",
       "      <td>6.077929e-01</td>\n",
       "      <td>-2.751708e-01</td>\n",
       "      <td>6.078385e-01</td>\n",
       "      <td>6.069829e-01</td>\n",
       "      <td>4.323832e-01</td>\n",
       "      <td>4.828956e-01</td>\n",
       "      <td>4.614851e-01</td>\n",
       "      <td>9.999941e-01</td>\n",
       "      <td>1.692611e-01</td>\n",
       "      <td>-4.010689e-01</td>\n",
       "      <td>-5.494281e-16</td>\n",
       "      <td>4.324098e-01</td>\n",
       "      <td>4.830346e-01</td>\n",
       "      <td>4.614448e-01</td>\n",
       "      <td>1.000000e+00</td>\n",
       "      <td>1.694094e-01</td>\n",
       "      <td>4.010776e-01</td>\n",
       "      <td>1.003913e-01</td>\n",
       "    </tr>\n",
       "    <tr>\n",
       "      <th>Explained by: Generosity</th>\n",
       "      <td>-1.763104e-02</td>\n",
       "      <td>1.385804e-01</td>\n",
       "      <td>-1.243516e-02</td>\n",
       "      <td>-2.263809e-02</td>\n",
       "      <td>-1.995321e-01</td>\n",
       "      <td>-1.149134e-01</td>\n",
       "      <td>-1.617669e-01</td>\n",
       "      <td>1.695875e-01</td>\n",
       "      <td>9.999938e-01</td>\n",
       "      <td>-1.641709e-01</td>\n",
       "      <td>-3.911720e-16</td>\n",
       "      <td>-1.994742e-01</td>\n",
       "      <td>-1.148768e-01</td>\n",
       "      <td>-1.618795e-01</td>\n",
       "      <td>1.694094e-01</td>\n",
       "      <td>1.000000e+00</td>\n",
       "      <td>1.641342e-01</td>\n",
       "      <td>-2.678238e-02</td>\n",
       "    </tr>\n",
       "    <tr>\n",
       "      <th>Explained by: Perceptions of corruption</th>\n",
       "      <td>4.212054e-01</td>\n",
       "      <td>-2.770410e-01</td>\n",
       "      <td>4.176242e-01</td>\n",
       "      <td>4.240423e-01</td>\n",
       "      <td>3.423323e-01</td>\n",
       "      <td>2.033657e-01</td>\n",
       "      <td>3.644519e-01</td>\n",
       "      <td>4.013717e-01</td>\n",
       "      <td>1.639243e-01</td>\n",
       "      <td>-9.999964e-01</td>\n",
       "      <td>-1.024197e-16</td>\n",
       "      <td>3.423048e-01</td>\n",
       "      <td>2.035803e-01</td>\n",
       "      <td>3.643814e-01</td>\n",
       "      <td>4.010776e-01</td>\n",
       "      <td>1.641342e-01</td>\n",
       "      <td>1.000000e+00</td>\n",
       "      <td>-4.446189e-03</td>\n",
       "    </tr>\n",
       "    <tr>\n",
       "      <th>Dystopia + residual</th>\n",
       "      <td>4.920099e-01</td>\n",
       "      <td>1.368273e-01</td>\n",
       "      <td>5.068795e-01</td>\n",
       "      <td>4.772043e-01</td>\n",
       "      <td>-4.111918e-02</td>\n",
       "      <td>6.680510e-03</td>\n",
       "      <td>-2.343290e-02</td>\n",
       "      <td>1.002423e-01</td>\n",
       "      <td>-2.721188e-02</td>\n",
       "      <td>4.478410e-03</td>\n",
       "      <td>-8.881058e-16</td>\n",
       "      <td>-4.114944e-02</td>\n",
       "      <td>6.687173e-03</td>\n",
       "      <td>-2.334437e-02</td>\n",
       "      <td>1.003913e-01</td>\n",
       "      <td>-2.678238e-02</td>\n",
       "      <td>-4.446189e-03</td>\n",
       "      <td>1.000000e+00</td>\n",
       "    </tr>\n",
       "  </tbody>\n",
       "</table>\n",
       "</div>"
      ],
      "text/plain": [
       "                                            Ladder score  \\\n",
       "Ladder score                                1.000000e+00   \n",
       "Standard error of ladder score             -4.707869e-01   \n",
       "upperwhisker                                9.993471e-01   \n",
       "lowerwhisker                                9.993963e-01   \n",
       "Logged GDP per capita                       7.897597e-01   \n",
       "Social support                              7.568876e-01   \n",
       "Healthy life expectancy                     7.680995e-01   \n",
       "Freedom to make life choices                6.077531e-01   \n",
       "Generosity                                 -1.779928e-02   \n",
       "Perceptions of corruption                  -4.211400e-01   \n",
       "Ladder score in Dystopia                   -1.975255e-15   \n",
       "Explained by: Log GDP per capita            7.897447e-01   \n",
       "Explained by: Social support                7.568687e-01   \n",
       "Explained by: Healthy life expectancy       7.681379e-01   \n",
       "Explained by: Freedom to make life choices  6.077929e-01   \n",
       "Explained by: Generosity                   -1.763104e-02   \n",
       "Explained by: Perceptions of corruption     4.212054e-01   \n",
       "Dystopia + residual                         4.920099e-01   \n",
       "\n",
       "                                            Standard error of ladder score  \\\n",
       "Ladder score                                                 -4.707869e-01   \n",
       "Standard error of ladder score                                1.000000e+00   \n",
       "upperwhisker                                                 -4.386116e-01   \n",
       "lowerwhisker                                                 -5.011499e-01   \n",
       "Logged GDP per capita                                        -6.457985e-01   \n",
       "Social support                                               -5.308151e-01   \n",
       "Healthy life expectancy                                      -5.838052e-01   \n",
       "Freedom to make life choices                                 -2.751818e-01   \n",
       "Generosity                                                    1.383487e-01   \n",
       "Perceptions of corruption                                     2.769974e-01   \n",
       "Ladder score in Dystopia                                     -4.601633e-17   \n",
       "Explained by: Log GDP per capita                             -6.457764e-01   \n",
       "Explained by: Social support                                 -5.310096e-01   \n",
       "Explained by: Healthy life expectancy                        -5.838058e-01   \n",
       "Explained by: Freedom to make life choices                   -2.751708e-01   \n",
       "Explained by: Generosity                                      1.385804e-01   \n",
       "Explained by: Perceptions of corruption                      -2.770410e-01   \n",
       "Dystopia + residual                                           1.368273e-01   \n",
       "\n",
       "                                            upperwhisker  lowerwhisker  \\\n",
       "Ladder score                                9.993471e-01  9.993963e-01   \n",
       "Standard error of ladder score             -4.386116e-01 -5.011499e-01   \n",
       "upperwhisker                                1.000000e+00  9.974888e-01   \n",
       "lowerwhisker                                9.974888e-01  1.000000e+00   \n",
       "Logged GDP per capita                       7.779950e-01  8.000636e-01   \n",
       "Social support                              7.492146e-01  7.632987e-01   \n",
       "Healthy life expectancy                     7.584551e-01  7.763641e-01   \n",
       "Freedom to make life choices                6.077973e-01  6.069443e-01   \n",
       "Generosity                                 -1.261589e-02 -2.279403e-02   \n",
       "Perceptions of corruption                  -4.175597e-01 -4.239761e-01   \n",
       "Ladder score in Dystopia                   -8.093238e-16 -1.092547e-17   \n",
       "Explained by: Log GDP per capita            7.779807e-01  8.000480e-01   \n",
       "Explained by: Social support                7.491875e-01  7.632876e-01   \n",
       "Explained by: Healthy life expectancy       7.584941e-01  7.764019e-01   \n",
       "Explained by: Freedom to make life choices  6.078385e-01  6.069829e-01   \n",
       "Explained by: Generosity                   -1.243516e-02 -2.263809e-02   \n",
       "Explained by: Perceptions of corruption     4.176242e-01  4.240423e-01   \n",
       "Dystopia + residual                         5.068795e-01  4.772043e-01   \n",
       "\n",
       "                                            Logged GDP per capita  \\\n",
       "Ladder score                                         7.897597e-01   \n",
       "Standard error of ladder score                      -6.457985e-01   \n",
       "upperwhisker                                         7.779950e-01   \n",
       "lowerwhisker                                         8.000636e-01   \n",
       "Logged GDP per capita                                1.000000e+00   \n",
       "Social support                                       7.852987e-01   \n",
       "Healthy life expectancy                              8.594606e-01   \n",
       "Freedom to make life choices                         4.323235e-01   \n",
       "Generosity                                          -1.992864e-01   \n",
       "Perceptions of corruption                           -3.423374e-01   \n",
       "Ladder score in Dystopia                            -3.097372e-16   \n",
       "Explained by: Log GDP per capita                     9.999997e-01   \n",
       "Explained by: Social support                         7.851744e-01   \n",
       "Explained by: Healthy life expectancy                8.594884e-01   \n",
       "Explained by: Freedom to make life choices           4.323832e-01   \n",
       "Explained by: Generosity                            -1.995321e-01   \n",
       "Explained by: Perceptions of corruption              3.423323e-01   \n",
       "Dystopia + residual                                 -4.111918e-02   \n",
       "\n",
       "                                            Social support  \\\n",
       "Ladder score                                  7.568876e-01   \n",
       "Standard error of ladder score               -5.308151e-01   \n",
       "upperwhisker                                  7.492146e-01   \n",
       "lowerwhisker                                  7.632987e-01   \n",
       "Logged GDP per capita                         7.852987e-01   \n",
       "Social support                                1.000000e+00   \n",
       "Healthy life expectancy                       7.232561e-01   \n",
       "Freedom to make life choices                  4.829298e-01   \n",
       "Generosity                                   -1.149459e-01   \n",
       "Perceptions of corruption                    -2.032070e-01   \n",
       "Ladder score in Dystopia                     -1.119273e-15   \n",
       "Explained by: Log GDP per capita              7.852872e-01   \n",
       "Explained by: Social support                  9.999959e-01   \n",
       "Explained by: Healthy life expectancy         7.232837e-01   \n",
       "Explained by: Freedom to make life choices    4.828956e-01   \n",
       "Explained by: Generosity                     -1.149134e-01   \n",
       "Explained by: Perceptions of corruption       2.033657e-01   \n",
       "Dystopia + residual                           6.680510e-03   \n",
       "\n",
       "                                            Healthy life expectancy  \\\n",
       "Ladder score                                           7.680995e-01   \n",
       "Standard error of ladder score                        -5.838052e-01   \n",
       "upperwhisker                                           7.584551e-01   \n",
       "lowerwhisker                                           7.763641e-01   \n",
       "Logged GDP per capita                                  8.594606e-01   \n",
       "Social support                                         7.232561e-01   \n",
       "Healthy life expectancy                                1.000000e+00   \n",
       "Freedom to make life choices                           4.614939e-01   \n",
       "Generosity                                            -1.617503e-01   \n",
       "Perceptions of corruption                             -3.643735e-01   \n",
       "Ladder score in Dystopia                              -1.261888e-15   \n",
       "Explained by: Log GDP per capita                       8.594463e-01   \n",
       "Explained by: Social support                           7.231547e-01   \n",
       "Explained by: Healthy life expectancy                  9.999992e-01   \n",
       "Explained by: Freedom to make life choices             4.614851e-01   \n",
       "Explained by: Generosity                              -1.617669e-01   \n",
       "Explained by: Perceptions of corruption                3.644519e-01   \n",
       "Dystopia + residual                                   -2.343290e-02   \n",
       "\n",
       "                                            Freedom to make life choices  \\\n",
       "Ladder score                                                6.077531e-01   \n",
       "Standard error of ladder score                             -2.751818e-01   \n",
       "upperwhisker                                                6.077973e-01   \n",
       "lowerwhisker                                                6.069443e-01   \n",
       "Logged GDP per capita                                       4.323235e-01   \n",
       "Social support                                              4.829298e-01   \n",
       "Healthy life expectancy                                     4.614939e-01   \n",
       "Freedom to make life choices                                1.000000e+00   \n",
       "Generosity                                                  1.694374e-01   \n",
       "Perceptions of corruption                                  -4.013630e-01   \n",
       "Ladder score in Dystopia                                   -2.436425e-15   \n",
       "Explained by: Log GDP per capita                            4.323504e-01   \n",
       "Explained by: Social support                                4.830686e-01   \n",
       "Explained by: Healthy life expectancy                       4.614541e-01   \n",
       "Explained by: Freedom to make life choices                  9.999941e-01   \n",
       "Explained by: Generosity                                    1.695875e-01   \n",
       "Explained by: Perceptions of corruption                     4.013717e-01   \n",
       "Dystopia + residual                                         1.002423e-01   \n",
       "\n",
       "                                              Generosity  \\\n",
       "Ladder score                               -1.779928e-02   \n",
       "Standard error of ladder score              1.383487e-01   \n",
       "upperwhisker                               -1.261589e-02   \n",
       "lowerwhisker                               -2.279403e-02   \n",
       "Logged GDP per capita                      -1.992864e-01   \n",
       "Social support                             -1.149459e-01   \n",
       "Healthy life expectancy                    -1.617503e-01   \n",
       "Freedom to make life choices                1.694374e-01   \n",
       "Generosity                                  1.000000e+00   \n",
       "Perceptions of corruption                  -1.639617e-01   \n",
       "Ladder score in Dystopia                   -3.804559e-17   \n",
       "Explained by: Log GDP per capita           -1.992288e-01   \n",
       "Explained by: Social support               -1.149085e-01   \n",
       "Explained by: Healthy life expectancy      -1.618629e-01   \n",
       "Explained by: Freedom to make life choices  1.692611e-01   \n",
       "Explained by: Generosity                    9.999938e-01   \n",
       "Explained by: Perceptions of corruption     1.639243e-01   \n",
       "Dystopia + residual                        -2.721188e-02   \n",
       "\n",
       "                                            Perceptions of corruption  \\\n",
       "Ladder score                                            -4.211400e-01   \n",
       "Standard error of ladder score                           2.769974e-01   \n",
       "upperwhisker                                            -4.175597e-01   \n",
       "lowerwhisker                                            -4.239761e-01   \n",
       "Logged GDP per capita                                   -3.423374e-01   \n",
       "Social support                                          -2.032070e-01   \n",
       "Healthy life expectancy                                 -3.643735e-01   \n",
       "Freedom to make life choices                            -4.013630e-01   \n",
       "Generosity                                              -1.639617e-01   \n",
       "Perceptions of corruption                                1.000000e+00   \n",
       "Ladder score in Dystopia                                -6.229328e-16   \n",
       "Explained by: Log GDP per capita                        -3.423100e-01   \n",
       "Explained by: Social support                            -2.034222e-01   \n",
       "Explained by: Healthy life expectancy                   -3.643031e-01   \n",
       "Explained by: Freedom to make life choices              -4.010689e-01   \n",
       "Explained by: Generosity                                -1.641709e-01   \n",
       "Explained by: Perceptions of corruption                 -9.999964e-01   \n",
       "Dystopia + residual                                      4.478410e-03   \n",
       "\n",
       "                                            Ladder score in Dystopia  \\\n",
       "Ladder score                                           -1.975255e-15   \n",
       "Standard error of ladder score                         -4.601633e-17   \n",
       "upperwhisker                                           -8.093238e-16   \n",
       "lowerwhisker                                           -1.092547e-17   \n",
       "Logged GDP per capita                                  -3.097372e-16   \n",
       "Social support                                         -1.119273e-15   \n",
       "Healthy life expectancy                                -1.261888e-15   \n",
       "Freedom to make life choices                           -2.436425e-15   \n",
       "Generosity                                             -3.804559e-17   \n",
       "Perceptions of corruption                              -6.229328e-16   \n",
       "Ladder score in Dystopia                                1.000000e+00   \n",
       "Explained by: Log GDP per capita                       -4.839622e-16   \n",
       "Explained by: Social support                            4.235784e-16   \n",
       "Explained by: Healthy life expectancy                   5.053941e-16   \n",
       "Explained by: Freedom to make life choices             -5.494281e-16   \n",
       "Explained by: Generosity                               -3.911720e-16   \n",
       "Explained by: Perceptions of corruption                -1.024197e-16   \n",
       "Dystopia + residual                                    -8.881058e-16   \n",
       "\n",
       "                                            Explained by: Log GDP per capita  \\\n",
       "Ladder score                                                    7.897447e-01   \n",
       "Standard error of ladder score                                 -6.457764e-01   \n",
       "upperwhisker                                                    7.779807e-01   \n",
       "lowerwhisker                                                    8.000480e-01   \n",
       "Logged GDP per capita                                           9.999997e-01   \n",
       "Social support                                                  7.852872e-01   \n",
       "Healthy life expectancy                                         8.594463e-01   \n",
       "Freedom to make life choices                                    4.323504e-01   \n",
       "Generosity                                                     -1.992288e-01   \n",
       "Perceptions of corruption                                      -3.423100e-01   \n",
       "Ladder score in Dystopia                                       -4.839622e-16   \n",
       "Explained by: Log GDP per capita                                1.000000e+00   \n",
       "Explained by: Social support                                    7.851631e-01   \n",
       "Explained by: Healthy life expectancy                           8.594741e-01   \n",
       "Explained by: Freedom to make life choices                      4.324098e-01   \n",
       "Explained by: Generosity                                       -1.994742e-01   \n",
       "Explained by: Perceptions of corruption                         3.423048e-01   \n",
       "Dystopia + residual                                            -4.114944e-02   \n",
       "\n",
       "                                            Explained by: Social support  \\\n",
       "Ladder score                                                7.568687e-01   \n",
       "Standard error of ladder score                             -5.310096e-01   \n",
       "upperwhisker                                                7.491875e-01   \n",
       "lowerwhisker                                                7.632876e-01   \n",
       "Logged GDP per capita                                       7.851744e-01   \n",
       "Social support                                              9.999959e-01   \n",
       "Healthy life expectancy                                     7.231547e-01   \n",
       "Freedom to make life choices                                4.830686e-01   \n",
       "Generosity                                                 -1.149085e-01   \n",
       "Perceptions of corruption                                  -2.034222e-01   \n",
       "Ladder score in Dystopia                                    4.235784e-16   \n",
       "Explained by: Log GDP per capita                            7.851631e-01   \n",
       "Explained by: Social support                                1.000000e+00   \n",
       "Explained by: Healthy life expectancy                       7.231827e-01   \n",
       "Explained by: Freedom to make life choices                  4.830346e-01   \n",
       "Explained by: Generosity                                   -1.148768e-01   \n",
       "Explained by: Perceptions of corruption                     2.035803e-01   \n",
       "Dystopia + residual                                         6.687173e-03   \n",
       "\n",
       "                                            Explained by: Healthy life expectancy  \\\n",
       "Ladder score                                                         7.681379e-01   \n",
       "Standard error of ladder score                                      -5.838058e-01   \n",
       "upperwhisker                                                         7.584941e-01   \n",
       "lowerwhisker                                                         7.764019e-01   \n",
       "Logged GDP per capita                                                8.594884e-01   \n",
       "Social support                                                       7.232837e-01   \n",
       "Healthy life expectancy                                              9.999992e-01   \n",
       "Freedom to make life choices                                         4.614541e-01   \n",
       "Generosity                                                          -1.618629e-01   \n",
       "Perceptions of corruption                                           -3.643031e-01   \n",
       "Ladder score in Dystopia                                             5.053941e-16   \n",
       "Explained by: Log GDP per capita                                     8.594741e-01   \n",
       "Explained by: Social support                                         7.231827e-01   \n",
       "Explained by: Healthy life expectancy                                1.000000e+00   \n",
       "Explained by: Freedom to make life choices                           4.614448e-01   \n",
       "Explained by: Generosity                                            -1.618795e-01   \n",
       "Explained by: Perceptions of corruption                              3.643814e-01   \n",
       "Dystopia + residual                                                 -2.334437e-02   \n",
       "\n",
       "                                            Explained by: Freedom to make life choices  \\\n",
       "Ladder score                                                              6.077929e-01   \n",
       "Standard error of ladder score                                           -2.751708e-01   \n",
       "upperwhisker                                                              6.078385e-01   \n",
       "lowerwhisker                                                              6.069829e-01   \n",
       "Logged GDP per capita                                                     4.323832e-01   \n",
       "Social support                                                            4.828956e-01   \n",
       "Healthy life expectancy                                                   4.614851e-01   \n",
       "Freedom to make life choices                                              9.999941e-01   \n",
       "Generosity                                                                1.692611e-01   \n",
       "Perceptions of corruption                                                -4.010689e-01   \n",
       "Ladder score in Dystopia                                                 -5.494281e-16   \n",
       "Explained by: Log GDP per capita                                          4.324098e-01   \n",
       "Explained by: Social support                                              4.830346e-01   \n",
       "Explained by: Healthy life expectancy                                     4.614448e-01   \n",
       "Explained by: Freedom to make life choices                                1.000000e+00   \n",
       "Explained by: Generosity                                                  1.694094e-01   \n",
       "Explained by: Perceptions of corruption                                   4.010776e-01   \n",
       "Dystopia + residual                                                       1.003913e-01   \n",
       "\n",
       "                                            Explained by: Generosity  \\\n",
       "Ladder score                                           -1.763104e-02   \n",
       "Standard error of ladder score                          1.385804e-01   \n",
       "upperwhisker                                           -1.243516e-02   \n",
       "lowerwhisker                                           -2.263809e-02   \n",
       "Logged GDP per capita                                  -1.995321e-01   \n",
       "Social support                                         -1.149134e-01   \n",
       "Healthy life expectancy                                -1.617669e-01   \n",
       "Freedom to make life choices                            1.695875e-01   \n",
       "Generosity                                              9.999938e-01   \n",
       "Perceptions of corruption                              -1.641709e-01   \n",
       "Ladder score in Dystopia                               -3.911720e-16   \n",
       "Explained by: Log GDP per capita                       -1.994742e-01   \n",
       "Explained by: Social support                           -1.148768e-01   \n",
       "Explained by: Healthy life expectancy                  -1.618795e-01   \n",
       "Explained by: Freedom to make life choices              1.694094e-01   \n",
       "Explained by: Generosity                                1.000000e+00   \n",
       "Explained by: Perceptions of corruption                 1.641342e-01   \n",
       "Dystopia + residual                                    -2.678238e-02   \n",
       "\n",
       "                                            Explained by: Perceptions of corruption  \\\n",
       "Ladder score                                                           4.212054e-01   \n",
       "Standard error of ladder score                                        -2.770410e-01   \n",
       "upperwhisker                                                           4.176242e-01   \n",
       "lowerwhisker                                                           4.240423e-01   \n",
       "Logged GDP per capita                                                  3.423323e-01   \n",
       "Social support                                                         2.033657e-01   \n",
       "Healthy life expectancy                                                3.644519e-01   \n",
       "Freedom to make life choices                                           4.013717e-01   \n",
       "Generosity                                                             1.639243e-01   \n",
       "Perceptions of corruption                                             -9.999964e-01   \n",
       "Ladder score in Dystopia                                              -1.024197e-16   \n",
       "Explained by: Log GDP per capita                                       3.423048e-01   \n",
       "Explained by: Social support                                           2.035803e-01   \n",
       "Explained by: Healthy life expectancy                                  3.643814e-01   \n",
       "Explained by: Freedom to make life choices                             4.010776e-01   \n",
       "Explained by: Generosity                                               1.641342e-01   \n",
       "Explained by: Perceptions of corruption                                1.000000e+00   \n",
       "Dystopia + residual                                                   -4.446189e-03   \n",
       "\n",
       "                                            Dystopia + residual  \n",
       "Ladder score                                       4.920099e-01  \n",
       "Standard error of ladder score                     1.368273e-01  \n",
       "upperwhisker                                       5.068795e-01  \n",
       "lowerwhisker                                       4.772043e-01  \n",
       "Logged GDP per capita                             -4.111918e-02  \n",
       "Social support                                     6.680510e-03  \n",
       "Healthy life expectancy                           -2.343290e-02  \n",
       "Freedom to make life choices                       1.002423e-01  \n",
       "Generosity                                        -2.721188e-02  \n",
       "Perceptions of corruption                          4.478410e-03  \n",
       "Ladder score in Dystopia                          -8.881058e-16  \n",
       "Explained by: Log GDP per capita                  -4.114944e-02  \n",
       "Explained by: Social support                       6.687173e-03  \n",
       "Explained by: Healthy life expectancy             -2.334437e-02  \n",
       "Explained by: Freedom to make life choices         1.003913e-01  \n",
       "Explained by: Generosity                          -2.678238e-02  \n",
       "Explained by: Perceptions of corruption           -4.446189e-03  \n",
       "Dystopia + residual                                1.000000e+00  "
      ]
     },
     "execution_count": 35,
     "metadata": {},
     "output_type": "execute_result"
    }
   ],
   "source": [
    "df.corr()"
   ]
  },
  {
   "cell_type": "code",
   "execution_count": 36,
   "metadata": {},
   "outputs": [],
   "source": [
    "df_correlation = df.corr()"
   ]
  },
  {
   "cell_type": "code",
   "execution_count": 37,
   "metadata": {},
   "outputs": [
    {
     "data": {
      "image/png": "[encoded data removed]",
      "text/plain": [
       "<Figure size 1008x864 with 2 Axes>"
      ]
     },
     "metadata": {
      "needs_background": "light"
     },
     "output_type": "display_data"
    }
   ],
   "source": [
    "plt.figure(figsize=(14,12))\n",
    "sns.heatmap(df_correlation,annot=True)\n",
    "plt.show()"
   ]
  },
  {
   "cell_type": "code",
   "execution_count": 38,
   "metadata": {},
   "outputs": [
    {
     "data": {
      "text/html": [
       "<div>\n",
       "<style scoped>\n",
       "    .dataframe tbody tr th:only-of-type {\n",
       "        vertical-align: middle;\n",
       "    }\n",
       "\n",
       "    .dataframe tbody tr th {\n",
       "        vertical-align: top;\n",
       "    }\n",
       "\n",
       "    .dataframe thead th {\n",
       "        text-align: right;\n",
       "    }\n",
       "</style>\n",
       "<table border=\"1\" class=\"dataframe\">\n",
       "  <thead>\n",
       "    <tr style=\"text-align: right;\">\n",
       "      <th></th>\n",
       "      <th>Ladder score</th>\n",
       "      <th>Standard error of ladder score</th>\n",
       "      <th>upperwhisker</th>\n",
       "      <th>lowerwhisker</th>\n",
       "      <th>Logged GDP per capita</th>\n",
       "      <th>Social support</th>\n",
       "      <th>Healthy life expectancy</th>\n",
       "      <th>Freedom to make life choices</th>\n",
       "      <th>Generosity</th>\n",
       "      <th>Perceptions of corruption</th>\n",
       "      <th>Ladder score in Dystopia</th>\n",
       "      <th>Explained by: Log GDP per capita</th>\n",
       "      <th>Explained by: Social support</th>\n",
       "      <th>Explained by: Healthy life expectancy</th>\n",
       "      <th>Explained by: Freedom to make life choices</th>\n",
       "      <th>Explained by: Generosity</th>\n",
       "      <th>Explained by: Perceptions of corruption</th>\n",
       "      <th>Dystopia + residual</th>\n",
       "    </tr>\n",
       "  </thead>\n",
       "  <tbody>\n",
       "    <tr>\n",
       "      <th>count</th>\n",
       "      <td>149.000000</td>\n",
       "      <td>149.000000</td>\n",
       "      <td>149.000000</td>\n",
       "      <td>149.000000</td>\n",
       "      <td>149.000000</td>\n",
       "      <td>149.000000</td>\n",
       "      <td>149.000000</td>\n",
       "      <td>149.000000</td>\n",
       "      <td>149.000000</td>\n",
       "      <td>149.000000</td>\n",
       "      <td>1.490000e+02</td>\n",
       "      <td>149.000000</td>\n",
       "      <td>149.000000</td>\n",
       "      <td>149.000000</td>\n",
       "      <td>149.000000</td>\n",
       "      <td>149.000000</td>\n",
       "      <td>149.000000</td>\n",
       "      <td>149.000000</td>\n",
       "    </tr>\n",
       "    <tr>\n",
       "      <th>mean</th>\n",
       "      <td>5.532839</td>\n",
       "      <td>0.058752</td>\n",
       "      <td>5.648007</td>\n",
       "      <td>5.417631</td>\n",
       "      <td>9.432208</td>\n",
       "      <td>0.814745</td>\n",
       "      <td>64.992799</td>\n",
       "      <td>0.791597</td>\n",
       "      <td>-0.015134</td>\n",
       "      <td>0.727450</td>\n",
       "      <td>2.430000e+00</td>\n",
       "      <td>0.977161</td>\n",
       "      <td>0.793315</td>\n",
       "      <td>0.520161</td>\n",
       "      <td>0.498711</td>\n",
       "      <td>0.178047</td>\n",
       "      <td>0.135141</td>\n",
       "      <td>2.430329</td>\n",
       "    </tr>\n",
       "    <tr>\n",
       "      <th>std</th>\n",
       "      <td>1.073924</td>\n",
       "      <td>0.022001</td>\n",
       "      <td>1.054330</td>\n",
       "      <td>1.094879</td>\n",
       "      <td>1.158601</td>\n",
       "      <td>0.114889</td>\n",
       "      <td>6.762043</td>\n",
       "      <td>0.113332</td>\n",
       "      <td>0.150657</td>\n",
       "      <td>0.179226</td>\n",
       "      <td>5.347044e-15</td>\n",
       "      <td>0.404740</td>\n",
       "      <td>0.258871</td>\n",
       "      <td>0.213019</td>\n",
       "      <td>0.137888</td>\n",
       "      <td>0.098270</td>\n",
       "      <td>0.114361</td>\n",
       "      <td>0.537645</td>\n",
       "    </tr>\n",
       "    <tr>\n",
       "      <th>min</th>\n",
       "      <td>2.523000</td>\n",
       "      <td>0.026000</td>\n",
       "      <td>2.596000</td>\n",
       "      <td>2.449000</td>\n",
       "      <td>6.635000</td>\n",
       "      <td>0.463000</td>\n",
       "      <td>48.478000</td>\n",
       "      <td>0.382000</td>\n",
       "      <td>-0.288000</td>\n",
       "      <td>0.082000</td>\n",
       "      <td>2.430000e+00</td>\n",
       "      <td>0.000000</td>\n",
       "      <td>0.000000</td>\n",
       "      <td>0.000000</td>\n",
       "      <td>0.000000</td>\n",
       "      <td>0.000000</td>\n",
       "      <td>0.000000</td>\n",
       "      <td>0.648000</td>\n",
       "    </tr>\n",
       "    <tr>\n",
       "      <th>25%</th>\n",
       "      <td>4.852000</td>\n",
       "      <td>0.043000</td>\n",
       "      <td>4.991000</td>\n",
       "      <td>4.706000</td>\n",
       "      <td>8.541000</td>\n",
       "      <td>0.750000</td>\n",
       "      <td>59.802000</td>\n",
       "      <td>0.718000</td>\n",
       "      <td>-0.126000</td>\n",
       "      <td>0.667000</td>\n",
       "      <td>2.430000e+00</td>\n",
       "      <td>0.666000</td>\n",
       "      <td>0.647000</td>\n",
       "      <td>0.357000</td>\n",
       "      <td>0.409000</td>\n",
       "      <td>0.105000</td>\n",
       "      <td>0.060000</td>\n",
       "      <td>2.138000</td>\n",
       "    </tr>\n",
       "    <tr>\n",
       "      <th>50%</th>\n",
       "      <td>5.534000</td>\n",
       "      <td>0.054000</td>\n",
       "      <td>5.625000</td>\n",
       "      <td>5.413000</td>\n",
       "      <td>9.569000</td>\n",
       "      <td>0.832000</td>\n",
       "      <td>66.603000</td>\n",
       "      <td>0.804000</td>\n",
       "      <td>-0.036000</td>\n",
       "      <td>0.781000</td>\n",
       "      <td>2.430000e+00</td>\n",
       "      <td>1.025000</td>\n",
       "      <td>0.832000</td>\n",
       "      <td>0.571000</td>\n",
       "      <td>0.514000</td>\n",
       "      <td>0.164000</td>\n",
       "      <td>0.101000</td>\n",
       "      <td>2.509000</td>\n",
       "    </tr>\n",
       "    <tr>\n",
       "      <th>75%</th>\n",
       "      <td>6.255000</td>\n",
       "      <td>0.070000</td>\n",
       "      <td>6.344000</td>\n",
       "      <td>6.128000</td>\n",
       "      <td>10.421000</td>\n",
       "      <td>0.905000</td>\n",
       "      <td>69.600000</td>\n",
       "      <td>0.877000</td>\n",
       "      <td>0.079000</td>\n",
       "      <td>0.845000</td>\n",
       "      <td>2.430000e+00</td>\n",
       "      <td>1.323000</td>\n",
       "      <td>0.996000</td>\n",
       "      <td>0.665000</td>\n",
       "      <td>0.603000</td>\n",
       "      <td>0.239000</td>\n",
       "      <td>0.174000</td>\n",
       "      <td>2.794000</td>\n",
       "    </tr>\n",
       "    <tr>\n",
       "      <th>max</th>\n",
       "      <td>7.842000</td>\n",
       "      <td>0.173000</td>\n",
       "      <td>7.904000</td>\n",
       "      <td>7.780000</td>\n",
       "      <td>11.647000</td>\n",
       "      <td>0.983000</td>\n",
       "      <td>76.953000</td>\n",
       "      <td>0.970000</td>\n",
       "      <td>0.542000</td>\n",
       "      <td>0.939000</td>\n",
       "      <td>2.430000e+00</td>\n",
       "      <td>1.751000</td>\n",
       "      <td>1.172000</td>\n",
       "      <td>0.897000</td>\n",
       "      <td>0.716000</td>\n",
       "      <td>0.541000</td>\n",
       "      <td>0.547000</td>\n",
       "      <td>3.482000</td>\n",
       "    </tr>\n",
       "  </tbody>\n",
       "</table>\n",
       "</div>"
      ],
      "text/plain": [
       "       Ladder score  Standard error of ladder score  upperwhisker  \\\n",
       "count    149.000000                      149.000000    149.000000   \n",
       "mean       5.532839                        0.058752      5.648007   \n",
       "std        1.073924                        0.022001      1.054330   \n",
       "min        2.523000                        0.026000      2.596000   \n",
       "25%        4.852000                        0.043000      4.991000   \n",
       "50%        5.534000                        0.054000      5.625000   \n",
       "75%        6.255000                        0.070000      6.344000   \n",
       "max        7.842000                        0.173000      7.904000   \n",
       "\n",
       "       lowerwhisker  Logged GDP per capita  Social support  \\\n",
       "count    149.000000             149.000000      149.000000   \n",
       "mean       5.417631               9.432208        0.814745   \n",
       "std        1.094879               1.158601        0.114889   \n",
       "min        2.449000               6.635000        0.463000   \n",
       "25%        4.706000               8.541000        0.750000   \n",
       "50%        5.413000               9.569000        0.832000   \n",
       "75%        6.128000              10.421000        0.905000   \n",
       "max        7.780000              11.647000        0.983000   \n",
       "\n",
       "       Healthy life expectancy  Freedom to make life choices  Generosity  \\\n",
       "count               149.000000                    149.000000  149.000000   \n",
       "mean                 64.992799                      0.791597   -0.015134   \n",
       "std                   6.762043                      0.113332    0.150657   \n",
       "min                  48.478000                      0.382000   -0.288000   \n",
       "25%                  59.802000                      0.718000   -0.126000   \n",
       "50%                  66.603000                      0.804000   -0.036000   \n",
       "75%                  69.600000                      0.877000    0.079000   \n",
       "max                  76.953000                      0.970000    0.542000   \n",
       "\n",
       "       Perceptions of corruption  Ladder score in Dystopia  \\\n",
       "count                 149.000000              1.490000e+02   \n",
       "mean                    0.727450              2.430000e+00   \n",
       "std                     0.179226              5.347044e-15   \n",
       "min                     0.082000              2.430000e+00   \n",
       "25%                     0.667000              2.430000e+00   \n",
       "50%                     0.781000              2.430000e+00   \n",
       "75%                     0.845000              2.430000e+00   \n",
       "max                     0.939000              2.430000e+00   \n",
       "\n",
       "       Explained by: Log GDP per capita  Explained by: Social support  \\\n",
       "count                        149.000000                    149.000000   \n",
       "mean                           0.977161                      0.793315   \n",
       "std                            0.404740                      0.258871   \n",
       "min                            0.000000                      0.000000   \n",
       "25%                            0.666000                      0.647000   \n",
       "50%                            1.025000                      0.832000   \n",
       "75%                            1.323000                      0.996000   \n",
       "max                            1.751000                      1.172000   \n",
       "\n",
       "       Explained by: Healthy life expectancy  \\\n",
       "count                             149.000000   \n",
       "mean                                0.520161   \n",
       "std                                 0.213019   \n",
       "min                                 0.000000   \n",
       "25%                                 0.357000   \n",
       "50%                                 0.571000   \n",
       "75%                                 0.665000   \n",
       "max                                 0.897000   \n",
       "\n",
       "       Explained by: Freedom to make life choices  Explained by: Generosity  \\\n",
       "count                                  149.000000                149.000000   \n",
       "mean                                     0.498711                  0.178047   \n",
       "std                                      0.137888                  0.098270   \n",
       "min                                      0.000000                  0.000000   \n",
       "25%                                      0.409000                  0.105000   \n",
       "50%                                      0.514000                  0.164000   \n",
       "75%                                      0.603000                  0.239000   \n",
       "max                                      0.716000                  0.541000   \n",
       "\n",
       "       Explained by: Perceptions of corruption  Dystopia + residual  \n",
       "count                               149.000000           149.000000  \n",
       "mean                                  0.135141             2.430329  \n",
       "std                                   0.114361             0.537645  \n",
       "min                                   0.000000             0.648000  \n",
       "25%                                   0.060000             2.138000  \n",
       "50%                                   0.101000             2.509000  \n",
       "75%                                   0.174000             2.794000  \n",
       "max                                   0.547000             3.482000  "
      ]
     },
     "execution_count": 38,
     "metadata": {},
     "output_type": "execute_result"
    }
   ],
   "source": [
    "df.describe()"
   ]
  },
  {
   "cell_type": "code",
   "execution_count": 39,
   "metadata": {},
   "outputs": [
    {
     "name": "stdout",
     "output_type": "stream",
     "text": [
      "<class 'pandas.core.frame.DataFrame'>\n",
      "RangeIndex: 149 entries, 0 to 148\n",
      "Data columns (total 18 columns):\n",
      " #   Column                                      Non-Null Count  Dtype  \n",
      "---  ------                                      --------------  -----  \n",
      " 0   Ladder score                                149 non-null    float64\n",
      " 1   Standard error of ladder score              149 non-null    float64\n",
      " 2   upperwhisker                                149 non-null    float64\n",
      " 3   lowerwhisker                                149 non-null    float64\n",
      " 4   Logged GDP per capita                       149 non-null    float64\n",
      " 5   Social support                              149 non-null    float64\n",
      " 6   Healthy life expectancy                     149 non-null    float64\n",
      " 7   Freedom to make life choices                149 non-null    float64\n",
      " 8   Generosity                                  149 non-null    float64\n",
      " 9   Perceptions of corruption                   149 non-null    float64\n",
      " 10  Ladder score in Dystopia                    149 non-null    float64\n",
      " 11  Explained by: Log GDP per capita            149 non-null    float64\n",
      " 12  Explained by: Social support                149 non-null    float64\n",
      " 13  Explained by: Healthy life expectancy       149 non-null    float64\n",
      " 14  Explained by: Freedom to make life choices  149 non-null    float64\n",
      " 15  Explained by: Generosity                    149 non-null    float64\n",
      " 16  Explained by: Perceptions of corruption     149 non-null    float64\n",
      " 17  Dystopia + residual                         149 non-null    float64\n",
      "dtypes: float64(18)\n",
      "memory usage: 21.1 KB\n"
     ]
    }
   ],
   "source": [
    "df.info()"
   ]
  },
  {
   "cell_type": "markdown",
   "metadata": {},
   "source": [
    "# OUTLIERS CHECKING"
   ]
  },
  {
   "cell_type": "code",
   "execution_count": 40,
   "metadata": {},
   "outputs": [
    {
     "data": {
      "image/png": "[encoded data removed]",
      "text/plain": [
       "<Figure size 1512x1368 with 1 Axes>"
      ]
     },
     "metadata": {
      "needs_background": "light"
     },
     "output_type": "display_data"
    }
   ],
   "source": [
    "df.boxplot(figsize=[21,19])\n",
    "\n",
    "plt.show()"
   ]
  },
  {
   "cell_type": "markdown",
   "metadata": {},
   "source": [
    "From the Boxplot it is evident \"Logged GDP per capita\" ,\"Healthy life expectancy\", \"Explained by: Log GDP per capita\", \"Explained by: Healthy life expectancy\" that have no outliers.\n",
    "Rest others have outliers."
   ]
  },
  {
   "cell_type": "markdown",
   "metadata": {},
   "source": [
    "# SKEWNESS"
   ]
  },
  {
   "cell_type": "code",
   "execution_count": 41,
   "metadata": {},
   "outputs": [
    {
     "data": {
      "text/plain": [
       "Ladder score                                 -0.104269\n",
       "Standard error of ladder score                1.891584\n",
       "upperwhisker                                 -0.116162\n",
       "lowerwhisker                                 -0.096591\n",
       "Logged GDP per capita                        -0.352025\n",
       "Social support                               -0.937810\n",
       "Healthy life expectancy                      -0.521998\n",
       "Freedom to make life choices                 -0.754799\n",
       "Generosity                                    1.009956\n",
       "Perceptions of corruption                    -1.577465\n",
       "Ladder score in Dystopia                      0.000000\n",
       "Explained by: Log GDP per capita             -0.352035\n",
       "Explained by: Social support                 -0.938742\n",
       "Explained by: Healthy life expectancy        -0.521586\n",
       "Explained by: Freedom to make life choices   -0.757096\n",
       "Explained by: Generosity                      1.009699\n",
       "Explained by: Perceptions of corruption       1.577898\n",
       "Dystopia + residual                          -0.558796\n",
       "dtype: float64"
      ]
     },
     "execution_count": 41,
     "metadata": {},
     "output_type": "execute_result"
    }
   ],
   "source": [
    "df.skew()"
   ]
  },
  {
   "cell_type": "markdown",
   "metadata": {},
   "source": [
    "# REMOVING OUTLIERS\n",
    "USING IQR METHOD"
   ]
  },
  {
   "cell_type": "code",
   "execution_count": 42,
   "metadata": {},
   "outputs": [],
   "source": [
    "df1= df"
   ]
  },
  {
   "cell_type": "code",
   "execution_count": 43,
   "metadata": {},
   "outputs": [],
   "source": [
    "Outlier_Features = df1[['Standard error of ladder score','upperwhisker','lowerwhisker', 'Social support','Perceptions of corruption','Explained by: Social support','Explained by: Freedom to make life choices','Explained by: Generosity','Explained by: Perceptions of corruption','Dystopia + residual']]"
   ]
  },
  {
   "cell_type": "code",
   "execution_count": 44,
   "metadata": {},
   "outputs": [],
   "source": [
    "features = ['Standard error of ladder score','upperwhisker','lowerwhisker', 'Social support','Perceptions of corruption','Explained by: Social support','Explained by: Freedom to make life choices','Explained by: Generosity','Explained by: Perceptions of corruption','Dystopia + residual']"
   ]
  },
  {
   "cell_type": "code",
   "execution_count": 45,
   "metadata": {},
   "outputs": [],
   "source": [
    "indxdrop = np.array([])\n",
    "for colm in df[features]:\n",
    "    q1 = Outlier_Features[colm].quantile(0.25)\n",
    "    q3 = Outlier_Features[colm].quantile(0.75)\n",
    "    iqr = q3-q1\n",
    "    upperval = q3 + (1.5*iqr)\n",
    "    lowerval = q1 - (1.5*iqr)\n",
    "    col = Outlier_Features[colm]\n",
    "    indx = col[(col > upperval) | (col < lowerval)].index\n",
    "    indxdrop = np.append(indxdrop, indx)"
   ]
  },
  {
   "cell_type": "code",
   "execution_count": 46,
   "metadata": {},
   "outputs": [
    {
     "data": {
      "text/plain": [
       "array([ 36., 142., 144., 148., 148.,  98., 139., 148.,   0.,   1.,   2.,\n",
       "         4.,   5.,   6.,   7.,   8.,  14.,  31., 146.,  98., 139., 148.,\n",
       "       148.,  81.,  97., 125., 142.,   0.,   1.,   2.,   4.,   5.,   6.,\n",
       "         7.,   8.,  14.,  31., 146., 128., 145., 146.])"
      ]
     },
     "execution_count": 46,
     "metadata": {},
     "output_type": "execute_result"
    }
   ],
   "source": [
    "indxdrop"
   ]
  },
  {
   "cell_type": "code",
   "execution_count": 47,
   "metadata": {},
   "outputs": [],
   "source": [
    "df =df1.drop(indxdrop)"
   ]
  },
  {
   "cell_type": "code",
   "execution_count": 48,
   "metadata": {
    "scrolled": true
   },
   "outputs": [
    {
     "data": {
      "image/png": "[encoded data removed]",
      "text/plain": [
       "<Figure size 1080x1080 with 1 Axes>"
      ]
     },
     "metadata": {
      "needs_background": "light"
     },
     "output_type": "display_data"
    }
   ],
   "source": [
    "df[features].boxplot(figsize=[15,15])\n",
    "\n",
    "plt.show()"
   ]
  },
  {
   "cell_type": "markdown",
   "metadata": {},
   "source": [
    "Good amount of outliers removed."
   ]
  },
  {
   "cell_type": "code",
   "execution_count": 49,
   "metadata": {},
   "outputs": [
    {
     "data": {
      "text/plain": [
       "(149, 18)"
      ]
     },
     "execution_count": 49,
     "metadata": {},
     "output_type": "execute_result"
    }
   ],
   "source": [
    "df1.shape"
   ]
  },
  {
   "cell_type": "code",
   "execution_count": 50,
   "metadata": {},
   "outputs": [
    {
     "data": {
      "text/plain": [
       "(127, 18)"
      ]
     },
     "execution_count": 50,
     "metadata": {},
     "output_type": "execute_result"
    }
   ],
   "source": [
    "df.shape"
   ]
  },
  {
   "cell_type": "markdown",
   "metadata": {},
   "source": [
    "# PERCENTAGE DATA LOSS:"
   ]
  },
  {
   "cell_type": "code",
   "execution_count": 51,
   "metadata": {},
   "outputs": [
    {
     "name": "stdout",
     "output_type": "stream",
     "text": [
      "14.76510067114094\n"
     ]
    }
   ],
   "source": [
    "loss_percent=(149-127)/149*100\n",
    "print(loss_percent)"
   ]
  },
  {
   "cell_type": "code",
   "execution_count": 52,
   "metadata": {},
   "outputs": [
    {
     "data": {
      "text/plain": [
       "Ladder score                                 -0.104269\n",
       "Standard error of ladder score                1.891584\n",
       "upperwhisker                                 -0.116162\n",
       "lowerwhisker                                 -0.096591\n",
       "Logged GDP per capita                        -0.352025\n",
       "Social support                               -0.937810\n",
       "Healthy life expectancy                      -0.521998\n",
       "Freedom to make life choices                 -0.754799\n",
       "Generosity                                    1.009956\n",
       "Perceptions of corruption                    -1.577465\n",
       "Ladder score in Dystopia                      0.000000\n",
       "Explained by: Log GDP per capita             -0.352035\n",
       "Explained by: Social support                 -0.938742\n",
       "Explained by: Healthy life expectancy        -0.521586\n",
       "Explained by: Freedom to make life choices   -0.757096\n",
       "Explained by: Generosity                      1.009699\n",
       "Explained by: Perceptions of corruption       1.577898\n",
       "Dystopia + residual                          -0.558796\n",
       "dtype: float64"
      ]
     },
     "execution_count": 52,
     "metadata": {},
     "output_type": "execute_result"
    }
   ],
   "source": [
    "df1.skew()"
   ]
  },
  {
   "cell_type": "code",
   "execution_count": 53,
   "metadata": {},
   "outputs": [],
   "source": [
    "features = ['Standard error of ladder score','Social support','Freedom to make life choices','Generosity','Perceptions of corruption','Explained by: Social support','Explained by: Freedom to make life choices','Explained by: Generosity','Explained by: Perceptions of corruption']"
   ]
  },
  {
   "cell_type": "code",
   "execution_count": 54,
   "metadata": {},
   "outputs": [],
   "source": [
    "from sklearn.preprocessing import PowerTransformer\n",
    "scaler = PowerTransformer(method='yeo-johnson')"
   ]
  },
  {
   "cell_type": "code",
   "execution_count": 55,
   "metadata": {},
   "outputs": [],
   "source": [
    "df[features] = scaler.fit_transform(df[features].values)"
   ]
  },
  {
   "cell_type": "code",
   "execution_count": 56,
   "metadata": {},
   "outputs": [
    {
     "data": {
      "text/plain": [
       "Standard error of ladder score                0.059498\n",
       "Social support                               -0.125836\n",
       "Freedom to make life choices                 -0.072102\n",
       "Generosity                                    0.048918\n",
       "Perceptions of corruption                    -0.134782\n",
       "Explained by: Social support                 -0.153099\n",
       "Explained by: Freedom to make life choices   -0.079542\n",
       "Explained by: Generosity                      0.030355\n",
       "Explained by: Perceptions of corruption       0.084739\n",
       "dtype: float64"
      ]
     },
     "execution_count": 56,
     "metadata": {},
     "output_type": "execute_result"
    }
   ],
   "source": [
    "df[features].skew()"
   ]
  },
  {
   "cell_type": "markdown",
   "metadata": {},
   "source": [
    "# Regression Model Building"
   ]
  },
  {
   "cell_type": "code",
   "execution_count": 57,
   "metadata": {},
   "outputs": [],
   "source": [
    "X = df.drop(columns = ['Ladder score'])\n",
    "y = df['Ladder score']"
   ]
  },
  {
   "cell_type": "code",
   "execution_count": 58,
   "metadata": {},
   "outputs": [
    {
     "data": {
      "text/plain": [
       "(127, 17)"
      ]
     },
     "execution_count": 58,
     "metadata": {},
     "output_type": "execute_result"
    }
   ],
   "source": [
    "X.shape"
   ]
  },
  {
   "cell_type": "code",
   "execution_count": 59,
   "metadata": {},
   "outputs": [
    {
     "data": {
      "text/plain": [
       "(127,)"
      ]
     },
     "execution_count": 59,
     "metadata": {},
     "output_type": "execute_result"
    }
   ],
   "source": [
    "y.shape"
   ]
  },
  {
   "cell_type": "code",
   "execution_count": 60,
   "metadata": {},
   "outputs": [
    {
     "name": "stderr",
     "output_type": "stream",
     "text": [
      "C:\\Users\\abhis\\anaconda3\\lib\\site-packages\\seaborn\\_decorators.py:36: FutureWarning: Pass the following variables as keyword args: x, y. From version 0.12, the only valid positional argument will be `data`, and passing other arguments without an explicit keyword will result in an error or misinterpretation.\n",
      "  warnings.warn(\n",
      "C:\\Users\\abhis\\anaconda3\\lib\\site-packages\\seaborn\\_decorators.py:36: FutureWarning: Pass the following variables as keyword args: x, y. From version 0.12, the only valid positional argument will be `data`, and passing other arguments without an explicit keyword will result in an error or misinterpretation.\n",
      "  warnings.warn(\n",
      "C:\\Users\\abhis\\anaconda3\\lib\\site-packages\\seaborn\\_decorators.py:36: FutureWarning: Pass the following variables as keyword args: x, y. From version 0.12, the only valid positional argument will be `data`, and passing other arguments without an explicit keyword will result in an error or misinterpretation.\n",
      "  warnings.warn(\n",
      "C:\\Users\\abhis\\anaconda3\\lib\\site-packages\\seaborn\\_decorators.py:36: FutureWarning: Pass the following variables as keyword args: x, y. From version 0.12, the only valid positional argument will be `data`, and passing other arguments without an explicit keyword will result in an error or misinterpretation.\n",
      "  warnings.warn(\n",
      "C:\\Users\\abhis\\anaconda3\\lib\\site-packages\\seaborn\\_decorators.py:36: FutureWarning: Pass the following variables as keyword args: x, y. From version 0.12, the only valid positional argument will be `data`, and passing other arguments without an explicit keyword will result in an error or misinterpretation.\n",
      "  warnings.warn(\n",
      "C:\\Users\\abhis\\anaconda3\\lib\\site-packages\\seaborn\\_decorators.py:36: FutureWarning: Pass the following variables as keyword args: x, y. From version 0.12, the only valid positional argument will be `data`, and passing other arguments without an explicit keyword will result in an error or misinterpretation.\n",
      "  warnings.warn(\n",
      "C:\\Users\\abhis\\anaconda3\\lib\\site-packages\\seaborn\\_decorators.py:36: FutureWarning: Pass the following variables as keyword args: x, y. From version 0.12, the only valid positional argument will be `data`, and passing other arguments without an explicit keyword will result in an error or misinterpretation.\n",
      "  warnings.warn(\n",
      "C:\\Users\\abhis\\anaconda3\\lib\\site-packages\\seaborn\\_decorators.py:36: FutureWarning: Pass the following variables as keyword args: x, y. From version 0.12, the only valid positional argument will be `data`, and passing other arguments without an explicit keyword will result in an error or misinterpretation.\n",
      "  warnings.warn(\n",
      "C:\\Users\\abhis\\anaconda3\\lib\\site-packages\\seaborn\\_decorators.py:36: FutureWarning: Pass the following variables as keyword args: x, y. From version 0.12, the only valid positional argument will be `data`, and passing other arguments without an explicit keyword will result in an error or misinterpretation.\n",
      "  warnings.warn(\n"
     ]
    },
    {
     "data": {
      "image/png": "[encoded data removed]",
      "text/plain": [
       "<Figure size 1440x1800 with 9 Axes>"
      ]
     },
     "metadata": {},
     "output_type": "display_data"
    }
   ],
   "source": [
    "plt.figure(figsize=(20,25),facecolor='white')\n",
    "pltnum=1\n",
    "for col in X:\n",
    "    if pltnum<=9:\n",
    "        ax = plt.subplot(4,4,pltnum)\n",
    "        sns.scatterplot(y,X[col])\n",
    "        \n",
    "    pltnum+=1\n",
    "plt.show()"
   ]
  },
  {
   "cell_type": "code",
   "execution_count": 61,
   "metadata": {},
   "outputs": [],
   "source": [
    "from sklearn.preprocessing import StandardScaler\n",
    "from sklearn.model_selection import train_test_split"
   ]
  },
  {
   "cell_type": "code",
   "execution_count": 62,
   "metadata": {},
   "outputs": [],
   "source": [
    "X_scaled = StandardScaler().fit_transform(X)"
   ]
  },
  {
   "cell_type": "code",
   "execution_count": 63,
   "metadata": {},
   "outputs": [
    {
     "data": {
      "text/plain": [
       "array([[ 0.22756857,  2.28904995,  2.20933124, ...,  1.40872635,\n",
       "         0.9285656 ,  1.06885608],\n",
       "       [-1.49860141,  1.91594921,  1.9490412 , ...,  0.64967567,\n",
       "         1.85754629,  0.6877905 ],\n",
       "       [-1.06239808,  1.83527878,  1.84492519, ...,  1.39092747,\n",
       "         1.98609049,  0.30047794],\n",
       "       ...,\n",
       "       [ 0.89010587, -2.08956179, -2.07786257, ...,  1.53109085,\n",
       "         1.46672966, -2.47942671],\n",
       "       [ 1.76953277, -2.06827375, -2.14944233, ...,  0.62831221,\n",
       "         0.51559212, -0.5491109 ],\n",
       "       [ 0.16595673, -2.65313438, -2.5713291 , ..., -0.0144889 ,\n",
       "        -0.37557729, -2.6002016 ]])"
      ]
     },
     "execution_count": 63,
     "metadata": {},
     "output_type": "execute_result"
    }
   ],
   "source": [
    "X_scaled"
   ]
  },
  {
   "cell_type": "markdown",
   "metadata": {},
   "source": [
    "Splitting the data into training and testing sets"
   ]
  },
  {
   "cell_type": "code",
   "execution_count": 64,
   "metadata": {},
   "outputs": [],
   "source": [
    "x_train,x_test,y_train,y_test = train_test_split(X_scaled,y,test_size = 0.31, random_state = 1)"
   ]
  },
  {
   "cell_type": "code",
   "execution_count": 65,
   "metadata": {},
   "outputs": [
    {
     "data": {
      "text/plain": [
       "122    4.584\n",
       "19     6.834\n",
       "99     5.030\n",
       "43     6.166\n",
       "95     5.074\n",
       "Name: Ladder score, dtype: float64"
      ]
     },
     "execution_count": 65,
     "metadata": {},
     "output_type": "execute_result"
    }
   ],
   "source": [
    "y_train.head()"
   ]
  },
  {
   "cell_type": "code",
   "execution_count": 66,
   "metadata": {},
   "outputs": [],
   "source": [
    "from sklearn.model_selection import GridSearchCV\n",
    "from sklearn.linear_model import LinearRegression\n",
    "from sklearn.ensemble import RandomForestRegressor\n",
    "from sklearn.svm import SVR\n",
    "from sklearn.metrics import r2_score,mean_squared_error\n",
    "    "
   ]
  },
  {
   "cell_type": "code",
   "execution_count": 67,
   "metadata": {},
   "outputs": [],
   "source": [
    "lr = LinearRegression()\n",
    "rf = RandomForestRegressor()\n",
    "SV= SVR()"
   ]
  },
  {
   "cell_type": "markdown",
   "metadata": {},
   "source": [
    "# Training Models"
   ]
  },
  {
   "cell_type": "code",
   "execution_count": 68,
   "metadata": {},
   "outputs": [
    {
     "data": {
      "text/plain": [
       "SVR()"
      ]
     },
     "execution_count": 68,
     "metadata": {},
     "output_type": "execute_result"
    }
   ],
   "source": [
    "lr.fit(x_train,y_train)\n",
    "rf.fit(x_train,y_train)\n",
    "SV.fit(x_train,y_train)"
   ]
  },
  {
   "cell_type": "markdown",
   "metadata": {},
   "source": [
    "# Linear Regression Model"
   ]
  },
  {
   "cell_type": "code",
   "execution_count": 84,
   "metadata": {},
   "outputs": [
    {
     "data": {
      "text/plain": [
       "0.9999997405543919"
      ]
     },
     "execution_count": 84,
     "metadata": {},
     "output_type": "execute_result"
    }
   ],
   "source": [
    "y_lr_pred = lr.predict(x_test)\n",
    "r2_score(y_test,y_lr_pred)"
   ]
  },
  {
   "cell_type": "markdown",
   "metadata": {},
   "source": [
    "# Mean Squared Error"
   ]
  },
  {
   "cell_type": "code",
   "execution_count": 85,
   "metadata": {},
   "outputs": [
    {
     "data": {
      "text/plain": [
       "1.763224550149607e-07"
      ]
     },
     "execution_count": 85,
     "metadata": {},
     "output_type": "execute_result"
    }
   ],
   "source": [
    "mean_squared_error(y_test,y_lr_pred)"
   ]
  },
  {
   "cell_type": "markdown",
   "metadata": {},
   "source": [
    "# Support Vector Regression Model"
   ]
  },
  {
   "cell_type": "code",
   "execution_count": 82,
   "metadata": {},
   "outputs": [
    {
     "data": {
      "text/plain": [
       "0.9122855007861677"
      ]
     },
     "execution_count": 82,
     "metadata": {},
     "output_type": "execute_result"
    }
   ],
   "source": [
    "y_svr_pred = SV.predict(x_test)\n",
    "r2_score(y_test,y_svr_pred)"
   ]
  },
  {
   "cell_type": "code",
   "execution_count": 83,
   "metadata": {},
   "outputs": [
    {
     "data": {
      "text/plain": [
       "0.059611862202655706"
      ]
     },
     "execution_count": 83,
     "metadata": {},
     "output_type": "execute_result"
    }
   ],
   "source": [
    "mean_squared_error(y_test,y_svr_pred)"
   ]
  },
  {
   "cell_type": "markdown",
   "metadata": {},
   "source": [
    "# Random Forest Regression Model"
   ]
  },
  {
   "cell_type": "code",
   "execution_count": 86,
   "metadata": {},
   "outputs": [
    {
     "data": {
      "text/plain": [
       "0.9936611851820069"
      ]
     },
     "execution_count": 86,
     "metadata": {},
     "output_type": "execute_result"
    }
   ],
   "source": [
    "y_rf_pred = rf.predict(x_test)\n",
    "r2_score(y_test,y_rf_pred)"
   ]
  },
  {
   "cell_type": "code",
   "execution_count": 88,
   "metadata": {},
   "outputs": [
    {
     "data": {
      "text/plain": [
       "0.00430793721500001"
      ]
     },
     "execution_count": 88,
     "metadata": {},
     "output_type": "execute_result"
    }
   ],
   "source": [
    "mean_squared_error(y_test,y_rf_pred)"
   ]
  },
  {
   "cell_type": "markdown",
   "metadata": {},
   "source": [
    "# Cross Validating the Models"
   ]
  },
  {
   "cell_type": "code",
   "execution_count": 89,
   "metadata": {},
   "outputs": [],
   "source": [
    "from sklearn.model_selection import ShuffleSplit,cross_val_score"
   ]
  },
  {
   "cell_type": "markdown",
   "metadata": {},
   "source": [
    "Cross Validating Linear Regression Model"
   ]
  },
  {
   "cell_type": "code",
   "execution_count": 90,
   "metadata": {},
   "outputs": [
    {
     "data": {
      "text/plain": [
       "0.9999998229878775"
      ]
     },
     "execution_count": 90,
     "metadata": {},
     "output_type": "execute_result"
    }
   ],
   "source": [
    "cross_val_score(lr,X_scaled,y,cv=ShuffleSplit(5)).mean()"
   ]
  },
  {
   "cell_type": "markdown",
   "metadata": {},
   "source": [
    "Cross Validating SV Regression Model"
   ]
  },
  {
   "cell_type": "code",
   "execution_count": 91,
   "metadata": {},
   "outputs": [
    {
     "data": {
      "text/plain": [
       "0.9322751379736071"
      ]
     },
     "execution_count": 91,
     "metadata": {},
     "output_type": "execute_result"
    }
   ],
   "source": [
    "cross_val_score(SV,X_scaled,y,cv=ShuffleSplit(5)).mean()"
   ]
  },
  {
   "cell_type": "markdown",
   "metadata": {},
   "source": [
    "Cross Validating RandomForest Regression Model"
   ]
  },
  {
   "cell_type": "code",
   "execution_count": 92,
   "metadata": {},
   "outputs": [
    {
     "data": {
      "text/plain": [
       "0.9975909722789609"
      ]
     },
     "execution_count": 92,
     "metadata": {},
     "output_type": "execute_result"
    }
   ],
   "source": [
    "cross_val_score(rf,X_scaled,y,cv=ShuffleSplit(5)).mean()"
   ]
  },
  {
   "cell_type": "markdown",
   "metadata": {},
   "source": [
    "# From comparing the R2 and the CV scores of the models, it is determined that Linear Regression model is the best pick.¶"
   ]
  },
  {
   "cell_type": "code",
   "execution_count": 94,
   "metadata": {},
   "outputs": [
    {
     "name": "stdout",
     "output_type": "stream",
     "text": [
      "Best Model : Linear Regression Model\n",
      "Score = 99.9999740554392\n"
     ]
    }
   ],
   "source": [
    "print('Best Model : Linear Regression Model',end='\\n')\n",
    "print('Score =', lr.score(x_test,y_test)*100)"
   ]
  },
  {
   "cell_type": "code",
   "execution_count": 95,
   "metadata": {},
   "outputs": [
    {
     "data": {
      "image/png": "[encoded data removed]",
      "text/plain": [
       "<Figure size 720x720 with 1 Axes>"
      ]
     },
     "metadata": {
      "needs_background": "light"
     },
     "output_type": "display_data"
    }
   ],
   "source": [
    "plt.figure(figsize=(10,10))\n",
    "plt.scatter(y_test, y_lr_pred, c='red')\n",
    "plt.yscale('linear')\n",
    "plt.xscale('linear')\n",
    "\n",
    "p1 = max(max(y_lr_pred), max(y_test))\n",
    "p2 = min(min(y_lr_pred), min(y_test))\n",
    "plt.plot([p1, p2], [p1, p2], 'b-')\n",
    "plt.xlabel('Actual Values', fontsize=15)\n",
    "plt.ylabel('Predictions', fontsize=15)\n",
    "plt.axis('equal')\n",
    "plt.show()"
   ]
  },
  {
   "cell_type": "code",
   "execution_count": 96,
   "metadata": {},
   "outputs": [
    {
     "data": {
      "text/plain": [
       "['BestModel.pkl']"
      ]
     },
     "execution_count": 96,
     "metadata": {},
     "output_type": "execute_result"
    }
   ],
   "source": [
    "import joblib\n",
    "joblib.dump(lr,\"BestModel.pkl\")"
   ]
  },
  {
   "cell_type": "code",
   "execution_count": 97,
   "metadata": {},
   "outputs": [],
   "source": [
    "mod=joblib.load(\"BestModel.pkl\")"
   ]
  },
  {
   "cell_type": "code",
   "execution_count": 98,
   "metadata": {},
   "outputs": [
    {
     "name": "stdout",
     "output_type": "stream",
     "text": [
      "[3.84952467 5.92907591 5.28276608 4.93383356 4.72100359 5.76629354\n",
      " 4.07364434 4.72350582 4.2276579  5.9849695  4.91780126 5.83999997\n",
      " 3.60019788 6.1060067  5.94054842 4.10716304 5.26918587 4.62495726\n",
      " 3.62416889 7.18375126 5.76389081 4.30821442 4.35539126 5.88146506\n",
      " 6.15171453 4.87500872 5.41106717 5.08844009 6.49100901 4.83411601\n",
      " 6.17144394 5.92945291 4.28307038 5.38453411 5.46638787 4.63656917\n",
      " 5.67763248 5.72245569 5.74342463 5.47683084]\n"
     ]
    }
   ],
   "source": [
    "print(mod.predict(x_test))"
   ]
  },
  {
   "cell_type": "code",
   "execution_count": null,
   "metadata": {},
   "outputs": [],
   "source": []
  }
 ],
 "metadata": {
  "kernelspec": {
   "display_name": "Python 3",
   "language": "python",
   "name": "python3"
  },
  "language_info": {
   "codemirror_mode": {
    "name": "ipython",
    "version": 3
   },
   "file_extension": ".py",
   "mimetype": "text/x-python",
   "name": "python",
   "nbconvert_exporter": "python",
   "pygments_lexer": "ipython3",
   "version": "3.8.8"
  }
 },
 "nbformat": 4,
 "nbformat_minor": 4
}
